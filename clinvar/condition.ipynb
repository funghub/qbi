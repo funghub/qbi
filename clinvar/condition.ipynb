{
 "cells": [
  {
   "cell_type": "code",
   "execution_count": 14,
   "metadata": {},
   "outputs": [],
   "source": [
    "import requests\n",
    "from bs4 import BeautifulSoup\n",
    "from urllib.parse import quote\n",
    "\n",
    "def extract_all_syndrome_names(html):\n",
    "    # Parse the HTML content\n",
    "    soup = html\n",
    "    \n",
    "    # Find all 'td' elements with the class 'pad-right'\n",
    "    syndrome_td = soup.find_all('td', class_='pad-right')\n",
    "    \n",
    "    # Extract the text inside these 'td' elements\n",
    "    syndrome_names = [td.get_text(strip=True) for td in syndrome_td]\n",
    "    \n",
    "    # Filter and return all occurrences of the syndrome name\n",
    "    syndrome_list = [name for name in syndrome_names]\n",
    "    \n",
    "    return syndrome_list\n",
    "\n",
    "\n",
    "def fetch_and_parse_html(ucsc_coords: str, assembly=\"GRCh38\"):\n",
    "    # Set up the headers like in the JavaScript fetch request\n",
    "    encoded_coords = quote(ucsc_coords)\n",
    "\n",
    "    headers = {\n",
    "        \"User-Agent\": \"Mozilla/5.0 (Windows NT 10.0; Win64; x64; rv:136.0) Gecko/20100101 Firefox/136.0\",\n",
    "        \"Accept\": \"text/html,application/xhtml+xml,application/xml;q=0.9,*/*;q=0.8\",\n",
    "        \"Accept-Language\": \"en-US,en;q=0.5\",\n",
    "        \"Upgrade-Insecure-Requests\": \"1\",\n",
    "        \"Sec-Fetch-Dest\": \"document\",\n",
    "        \"Sec-Fetch-Mode\": \"navigate\",\n",
    "        \"Sec-Fetch-Site\": \"same-origin\",\n",
    "        \"Sec-Fetch-User\": \"?1\",\n",
    "        \"Sec-GPC\": \"1\"\n",
    "    }\n",
    "\n",
    "    url = f\"https://www.ncbi.nlm.nih.gov/clinvar/?term={encoded_coords}\"\n",
    "    print(url)\n",
    "\n",
    "\n",
    "    # Send the GET request with the headers\n",
    "    response = requests.get(url, headers=headers)\n",
    "\n",
    "    # Check if the request was successful\n",
    "    if response.status_code == 200:\n",
    "        # Parse the content of the page with BeautifulSoup\n",
    "        soup = BeautifulSoup(response.text, 'html.parser')\n",
    "\n",
    "        data = extract_all_syndrome_names(soup)\n",
    "\n",
    "        # Return the parsed HTML (You can perform further operations on the soup here)\n",
    "        return data\n",
    "    else:\n",
    "        # If the request fails, return the status code for debugging\n",
    "        return f\"Failed to retrieve content. Status code: {response.status_code}\"\n",
    "\n"
   ]
  },
  {
   "cell_type": "code",
   "execution_count": 15,
   "metadata": {},
   "outputs": [
    {
     "name": "stdout",
     "output_type": "stream",
     "text": [
      "https://www.ncbi.nlm.nih.gov/clinvar/?term=chr1%3A10636604-10796646\n",
      "['See cases', 'See cases', 'See cases', 'See cases', 'See cases', 'See cases', 'See cases', 'See cases', 'See cases', 'See cases', 'See cases', 'See cases', 'See cases', 'See cases', 'See cases', 'See cases', 'Peroxisome biogenesis disorder, complementation group K', 'not provided', 'Peroxisome biogenesis disorder, complementation group K', 'Peroxisome biogenesis disorder, complementation group K+1more', 'Peroxisome biogenesis disorder, complementation group K', 'Peroxisome biogenesis disorder, complementation group K+1more', 'not provided+1more', 'Peroxisome biogenesis disorder, complementation group K+1more', 'Peroxisome biogenesis disorder, complementation group K', 'Peroxisome biogenesis disorder, complementation group K', 'Inborn genetic diseases', 'Peroxisome biogenesis disorder 13A (Zellweger)+1more', 'Inborn genetic diseases', 'Peroxisome biogenesis disorder, complementation group K', 'not provided+3 more', 'Peroxisome biogenesis disorder, complementation group K+1more', 'Peroxisome biogenesis disorder, complementation group K', 'Peroxisome biogenesis disorder, complementation group K+1more', 'Peroxisome biogenesis disorder, complementation group K', 'Peroxisome biogenesis disorder, complementation group K', 'Peroxisome biogenesis disorder, complementation group K', 'Peroxisome biogenesis disorder, complementation group K', 'Peroxisome biogenesis disorder, complementation group K', 'Peroxisome biogenesis disorder, complementation group K', 'not provided+1more', 'Peroxisome biogenesis disorder, complementation group K', 'Peroxisome biogenesis disorder, complementation group K', 'Peroxisome biogenesis disorder 13A (Zellweger)+3 more', 'Peroxisome biogenesis disorder, complementation group K', 'Peroxisome biogenesis disorder, complementation group K', 'Peroxisome biogenesis disorder, complementation group K', 'Peroxisome biogenesis disorder, complementation group K', 'Peroxisome biogenesis disorder, complementation group K', 'Peroxisome biogenesis disorder 13A (Zellweger)+2 more', 'Peroxisome biogenesis disorder, complementation group K', 'Peroxisome biogenesis disorder, complementation group K', 'Peroxisome biogenesis disorder, complementation group K', 'Peroxisome biogenesis disorder, complementation group K', 'Peroxisome biogenesis disorder, complementation group K', 'Peroxisome biogenesis disorder, complementation group K', 'Peroxisome biogenesis disorder, complementation group K', 'Peroxisome biogenesis disorder, complementation group K', 'Peroxisome biogenesis disorder, complementation group K', 'Peroxisome biogenesis disorder, complementation group K', 'Peroxisome biogenesis disorder, complementation group K', 'Peroxisome biogenesis disorder, complementation group K', 'Peroxisome biogenesis disorder, complementation group K', 'Peroxisome biogenesis disorder, complementation group K', 'Peroxisome biogenesis disorder, complementation group K', 'not provided+1more', 'Peroxisome biogenesis disorder, complementation group K', 'Peroxisome biogenesis disorder, complementation group K', 'Peroxisome biogenesis disorder, complementation group K', 'Peroxisome biogenesis disorder, complementation group K+1more', 'Peroxisome biogenesis disorder, complementation group K+1more', 'Peroxisome biogenesis disorder, complementation group K', 'Peroxisome biogenesis disorder, complementation group K', 'Peroxisome biogenesis disorder, complementation group K', 'Peroxisome biogenesis disorder, complementation group K', 'not provided+1more', 'Peroxisome biogenesis disorder, complementation group K', 'Peroxisome biogenesis disorder, complementation group K', 'Peroxisome biogenesis disorder, complementation group K', 'Peroxisome biogenesis disorder, complementation group K', 'Peroxisome biogenesis disorder, complementation group K', 'Peroxisome biogenesis disorder, complementation group K+1more', 'Peroxisome biogenesis disorder, complementation group K', 'Peroxisome biogenesis disorder, complementation group K', 'Peroxisome biogenesis disorder, complementation group K+1more', 'not provided+1more', 'Peroxisome biogenesis disorder, complementation group K', 'Peroxisome biogenesis disorder, complementation group K', 'Peroxisome biogenesis disorder, complementation group K', 'Peroxisome biogenesis disorder, complementation group K', 'Peroxisome biogenesis disorder, complementation group K+2 more', 'Peroxisome biogenesis disorder, complementation group K', 'Peroxisome biogenesis disorder, complementation group K', 'Peroxisome biogenesis disorder, complementation group K+2 more', 'Peroxisome biogenesis disorder, complementation group K', 'Peroxisome biogenesis disorder 13A (Zellweger)+2 more', 'Peroxisome biogenesis disorder, complementation group K', 'Peroxisome biogenesis disorder, complementation group K', 'Peroxisome biogenesis disorder, complementation group K', 'Peroxisome biogenesis disorder, complementation group K']\n"
     ]
    }
   ],
   "source": [
    "data = fetch_and_parse_html(\"chr1:10636604-10796646\")\n",
    "print(data)"
   ]
  },
  {
   "cell_type": "code",
   "execution_count": null,
   "metadata": {},
   "outputs": [
    {
     "name": "stdout",
     "output_type": "stream",
     "text": [
      "['See cases', 'See cases', 'See cases', 'See cases', 'See cases', 'See cases', 'See cases', 'See cases', 'See cases', 'See cases', 'See cases', 'See cases', 'See cases', 'See cases', 'See cases', 'See cases', 'See cases', 'See cases', 'See cases', 'See cases', 'See cases', 'See cases', 'See cases', 'See cases', 'See cases', 'See cases', 'See cases', 'See cases', 'See cases', 'See cases', 'See cases', 'See cases', 'See cases', 'See cases', 'See cases', 'See cases', 'See cases', 'See cases', 'See cases', 'See cases', 'See cases', 'See cases', 'See cases', 'See cases', 'See cases', 'not provided', 'Chromosome 1p36 deletion syndrome', 'not provided', 'not provided', 'not provided', 'Harel-Yoon syndrome', 'See cases', 'not provided', 'See cases', 'See cases', 'Neurodevelopmental disorder', 'not provided', 'Chromosome 1p36 deletion syndrome', 'Chromosome 1p36 deletion syndrome', 'See cases', 'See cases', 'See cases', 'See cases']\n"
     ]
    }
   ],
   "source": [
    "def extract_all_syndrome_names(html):\n",
    "    # Parse the HTML content\n",
    "    soup = html\n",
    "    \n",
    "    # Find all 'td' elements with the class 'pad-right'\n",
    "    syndrome_td = soup.find_all('td', class_='pad-right')\n",
    "    \n",
    "    # Extract the text inside these 'td' elements\n",
    "    syndrome_names = [td.get_text(strip=True) for td in syndrome_td]\n",
    "    \n",
    "    # Filter and return all occurrences of the syndrome name\n",
    "    syndrome_list = [name for name in syndrome_names]\n",
    "    \n",
    "    return syndrome_list\n",
    "\n",
    "# Call the function to extract all syndrome names\n",
    "syndrome_names = extract_all_syndrome_names(html_content)\n",
    "\n",
    "# Print the result\n",
    "print(syndrome_names)"
   ]
  },
  {
   "cell_type": "code",
   "execution_count": 8,
   "metadata": {},
   "outputs": [
    {
     "name": "stdout",
     "output_type": "stream",
     "text": [
      "Counter({'See cases': 52, 'not provided': 6, 'Chromosome 1p36 deletion syndrome': 3, 'Harel-Yoon syndrome': 1, 'Neurodevelopmental disorder': 1})\n"
     ]
    }
   ],
   "source": [
    "from collections import Counter\n",
    "\n",
    "count_syndromes = Counter(syndrome_names)\n",
    "print(count_syndromes)"
   ]
  },
  {
   "cell_type": "code",
   "execution_count": null,
   "metadata": {},
   "outputs": [],
   "source": [
    "Object { term: '(\"single nucleotide variant\"[Type of variation]) AND (1[CHR] AND (1:112618928[CHRPOS37] AND 112525883:2000000000[CHRPOS37]))', assembly: \"GCF_000001405.25\" }"
   ]
  },
  {
   "cell_type": "code",
   "execution_count": null,
   "metadata": {},
   "outputs": [],
   "source": [
    "import requests\n",
    "\n",
    "def search_clinvar(term):\n",
    "    url = \"https://www.ncbi.nlm.nih.gov/clinvar\"\n",
    "    \n",
    "    headers = {\n",
    "        \"User-Agent\": \"Mozilla/5.0 (Windows NT 10.0; Win64; x64; rv:136.0) Gecko/20100101 Firefox/136.0\",\n",
    "        \"Accept\": \"text/html,application/xhtml+xml,application/xml;q=0.9,*/*;q=0.8\",\n",
    "        \"Accept-Language\": \"en-US,en;q=0.5\",\n",
    "        \"Content-Type\": \"application/x-www-form-urlencoded\",\n",
    "        \"Upgrade-Insecure-Requests\": \"1\",\n",
    "        \"Sec-Fetch-Dest\": \"document\",\n",
    "        \"Sec-Fetch-Mode\": \"navigate\",\n",
    "        \"Sec-Fetch-Site\": \"same-origin\",\n",
    "        \"Sec-Fetch-User\": \"?1\",\n",
    "        \"Sec-GPC\": \"1\",\n",
    "        \"Priority\": \"u=0, i\"\n",
    "    }\n",
    "    \n",
    "    data = {\n",
    "        \"term\": term,\n",
    "        \"EntrezSystem2.PEntrez.clinVar.Entrez_PageController.PreviousPageName\": \"results\",\n",
    "        \"EntrezSystem2.PEntrez.clinVar.clinVar_Facets.FacetsUrlFrag\": \"filters%3D17890\",\n",
    "        \"EntrezSystem2.PEntrez.clinVar.clinVar_Facets.FacetSubmitted\": \"false\",\n",
    "        \"EntrezSystem2.PEntrez.clinVar.clinVar_Entrez_ResultsPanel.Entrez_DisplayBar.sPresentation\": \"tabular\",\n",
    "        \"EntrezSystem2.PEntrez.clinVar.clinVar_Entrez_ResultsPanel.Entrez_DisplayBar.sSort\": \"Position\",\n",
    "        \"EntrezSystem2.PEntrez.clinVar.clinVar_Entrez_ResultsPanel.Entrez_DisplayBar.SendTo\": \"File\",\n",
    "        \"EntrezSystem2.PEntrez.clinVar.clinVar_Entrez_ResultsPanel.Entrez_DisplayBar.FFormat\": \"tabular\",\n",
    "        \"EntrezSystem2.PEntrez.clinVar.clinVar_Entrez_ResultsPanel.Entrez_DisplayBar.FSort\": \"Position\",\n",
    "        \"EntrezSystem2.PEntrez.clinVar.clinVar_Entrez_ResultsPanel.Entrez_DisplayBar.FileFormat\": \"tabular\",\n",
    "        \"EntrezSystem2.PEntrez.clinVar.clinVar_Entrez_ResultsPanel.Entrez_DisplayBar.LastPresentation\": \"tabular\",\n",
    "        \"EntrezSystem2.PEntrez.clinVar.clinVar_Entrez_ResultsPanel.Entrez_DisplayBar.Presentation\": \"tabular\",\n",
    "        \"EntrezSystem2.PEntrez.clinVar.clinVar_Entrez_ResultsPanel.Entrez_DisplayBar.PageSize\": \"100\",\n",
    "        \"EntrezSystem2.PEntrez.clinVar.clinVar_Entrez_ResultsPanel.Entrez_DisplayBar.LastPageSize\": \"100\",\n",
    "        \"EntrezSystem2.PEntrez.clinVar.clinVar_Entrez_ResultsPanel.Entrez_DisplayBar.Sort\": \"Position\",\n",
    "        \"EntrezSystem2.PEntrez.clinVar.clinVar_Entrez_ResultsPanel.Entrez_DisplayBar.LastSort\": \"Position\",\n",
    "        \"EntrezSystem2.PEntrez.clinVar.clinVar_Entrez_ResultsPanel.Entrez_DisplayBar.FileSort\": \"Position\",\n",
    "        \"EntrezSystem2.PEntrez.clinVar.clinVar_Entrez_ResultsPanel.Entrez_DisplayBar.Format\": \"\",\n",
    "        \"EntrezSystem2.PEntrez.clinVar.clinVar_Entrez_ResultsPanel.Entrez_DisplayBar.LastFormat\": \"\",\n",
    "        \"EntrezSystem2.PEntrez.clinVar.clinVar_Entrez_ResultsPanel.Entrez_DisplayBar.PrevPageSize\": \"100\",\n",
    "        \"EntrezSystem2.PEntrez.clinVar.clinVar_Entrez_ResultsPanel.Entrez_DisplayBar.PrevPresentation\": \"tabular\",\n",
    "        \"EntrezSystem2.PEntrez.clinVar.clinVar_Entrez_ResultsPanel.Entrez_DisplayBar.PrevSort\": \"Position\",\n",
    "        \"CollectionStartIndex\": \"1\",\n",
    "        \"EntrezSystem2.PEntrez.clinVar.clinVar_Entrez_ResultsPanel.Clinvar_Entrez_ResultsController.ResultCount\": \"2\",\n",
    "        \"EntrezSystem2.PEntrez.clinVar.clinVar_Entrez_ResultsPanel.Clinvar_Entrez_ResultsController.RunLastQuery\": \"\",\n",
    "        \"EntrezSystem2.PEntrez.DbConnector.Db\": \"clinvar\",\n",
    "        \"EntrezSystem2.PEntrez.DbConnector.LastDb\": \"clinvar\",\n",
    "        \"EntrezSystem2.PEntrez.DbConnector.Term\": term,\n",
    "        \"EntrezSystem2.PEntrez.DbConnector.LastTabCmd\": \"\",\n",
    "        \"EntrezSystem2.PEntrez.DbConnector.LastQueryKey\": \"20\",\n",
    "        \"EntrezSystem2.PEntrez.DbConnector.IdsFromResult\": \"\",\n",
    "        \"EntrezSystem2.PEntrez.DbConnector.LastIdsFromResult\": \"\",\n",
    "        \"EntrezSystem2.PEntrez.DbConnector.LinkName\": \"\",\n",
    "        \"EntrezSystem2.PEntrez.DbConnector.LinkReadableName\": \"\",\n",
    "        \"EntrezSystem2.PEntrez.DbConnector.LinkSrcDb\": \"\",\n",
    "        \"EntrezSystem2.PEntrez.DbConnector.Cmd\": \"file\",\n",
    "        \"EntrezSystem2.PEntrez.DbConnector.TabCmd\": \"\",\n",
    "        \"EntrezSystem2.PEntrez.DbConnector.QueryKey\": \"\",\n",
    "        \"p%24a\": \"EntrezSystem2.PEntrez.clinVar.clinVar_Entrez_ResultsPanel.Entrez_DisplayBar.SendToSubmit\",\n",
    "        \"p%24l\": \"EntrezSystem2\",\n",
    "        \"p%24st\": \"clinvar\"\n",
    "    }\n",
    "\n",
    "    response = requests.post(url, headers=headers, data=data)\n",
    "    \n",
    "    if response.status_code == 200:\n",
    "        return response.text  # or you can parse the HTML response as needed\n",
    "    else:\n",
    "        return f\"Error: {response.status_code}\"\n",
    "\n",
    "# Example usage:\n",
    "search_term = \"chr1:112525883-112618928\"\n",
    "result = search_clinvar(search_term)\n",
    "print(result)\n"
   ]
  }
 ],
 "metadata": {
  "kernelspec": {
   "display_name": "base",
   "language": "python",
   "name": "python3"
  },
  "language_info": {
   "codemirror_mode": {
    "name": "ipython",
    "version": 3
   },
   "file_extension": ".py",
   "mimetype": "text/x-python",
   "name": "python",
   "nbconvert_exporter": "python",
   "pygments_lexer": "ipython3",
   "version": "3.11.7"
  }
 },
 "nbformat": 4,
 "nbformat_minor": 2
}
