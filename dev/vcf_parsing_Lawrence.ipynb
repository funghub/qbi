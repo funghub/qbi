{
 "cells": [
  {
   "cell_type": "code",
   "execution_count": 77,
   "metadata": {},
   "outputs": [],
   "source": [
    "import io\n",
    "import os\n",
    "import pandas as pd"
   ]
  },
  {
   "cell_type": "code",
   "execution_count": 78,
   "metadata": {},
   "outputs": [],
   "source": [
    "# this will convert vcf to dataframe\n",
    "def read_vcf(path):\n",
    "    with open(path, 'r') as f:\n",
    "        lines = [l for l in f if not l.startswith('##')]\n",
    "    return pd.read_csv(\n",
    "        io.StringIO(''.join(lines)),\n",
    "        dtype={'#CHROM': str, 'POS': int, 'ID': str, 'REF': str, 'ALT': str,\n",
    "               'QUAL': str, 'FILTER': str, 'INFO': str},\n",
    "        sep='\\t'\n",
    "    ).rename(columns={'#CHROM': 'CHROM'})"
   ]
  },
  {
   "cell_type": "code",
   "execution_count": 79,
   "metadata": {},
   "outputs": [],
   "source": [
    "'''\n",
    "Example search:\n",
    "1. Find BRCA1 gene on UCSC Genome Browser and get chr17:43044295-43125364 \n",
    "2. Put in parameters of chromosome and start and end location into Defining the range code below\n",
    "3. On Clinvar website navigate to \"FTP\" on Home bar\n",
    "4. Click on \"vcf_GRCh38/\"\n",
    "5. Click on \"clinvar.vcf.gz\" and it will download VCF\n",
    "6. Unzip the file and use that path below\n",
    "'''\n",
    "\n",
    "# ENTER your path to the vcf file\n",
    "alz_vcf_raw = read_vcf(\"C:\\\\Users\\\\lawfu\\\\Documents\\\\Github Hackathon 2025\\\\clinvar.vcf\")"
   ]
  },
  {
   "cell_type": "code",
   "execution_count": 80,
   "metadata": {},
   "outputs": [
    {
     "name": "stdout",
     "output_type": "stream",
     "text": [
      "  CHROM    POS       ID REF ALT QUAL FILTER  \\\n",
      "0     1  66926  3385321  AG   A    .      .   \n",
      "1     1  69134  2205837   A   G    .      .   \n",
      "2     1  69314  3205580   T   G    .      .   \n",
      "3     1  69423  3205581   G   A    .      .   \n",
      "4     1  69581  2252161   C   G    .      .   \n",
      "\n",
      "                                                INFO  \n",
      "0  ALLELEID=3544463;CLNDISDB=Human_Phenotype_Onto...  \n",
      "1  ALLELEID=2193183;CLNDISDB=MedGen:CN169374;CLND...  \n",
      "2  ALLELEID=3374047;CLNDISDB=MedGen:CN169374;CLND...  \n",
      "3  ALLELEID=3374048;CLNDISDB=MedGen:CN169374;CLND...  \n",
      "4  ALLELEID=2238986;CLNDISDB=MedGen:CN169374;CLND...  \n"
     ]
    }
   ],
   "source": [
    "# show first 5 of dataframe\n",
    "print(alz_vcf_raw.head())"
   ]
  },
  {
   "cell_type": "code",
   "execution_count": 81,
   "metadata": {},
   "outputs": [
    {
     "name": "stdout",
     "output_type": "stream",
     "text": [
      "        CHROM       POS       ID REF ALT QUAL FILTER  \\\n",
      "2708619    17  43044315   438907   T   A    .      .   \n",
      "2708620    17  43044320  1336623   T   C    .      .   \n",
      "2708622    17  43044342  1336422   T   C    .      .   \n",
      "2708623    17  43044346   209232   C   T    .      .   \n",
      "2708624    17  43044351   264789   C   T    .      .   \n",
      "...       ...       ...      ...  ..  ..  ...    ...   \n",
      "2723077    17  43125350  1194833   C   G    .      .   \n",
      "2723078    17  43125357  1171499   G   A    .      .   \n",
      "2723079    17  43125357   920681   G   C    .      .   \n",
      "2723080    17  43125358  1685584   T   A    .      .   \n",
      "2723081    17  43125360   323424   T   A    .      .   \n",
      "\n",
      "                                                      INFO  \n",
      "2708619  ALLELEID=432889;CLNDISDB=MedGen:CN169374;CLNDN...  \n",
      "2708620  ALLELEID=1327634;CLNDISDB=MedGen:CN169374;CLND...  \n",
      "2708622  ALLELEID=1327433;CLNDISDB=MedGen:CN169374;CLND...  \n",
      "2708623  AF_EXAC=0.00500;AF_TGP=0.00419;ALLELEID=206190...  \n",
      "2708624  AF_EXAC=0.01533;AF_TGP=0.00839;ALLELEID=259533...  \n",
      "...                                                    ...  \n",
      "2723077  ALLELEID=1185264;CLNDISDB=MedGen:C3661900;CLND...  \n",
      "2723078  AF_TGP=0.00020;ALLELEID=1161374;CLNDISDB=MONDO...  \n",
      "2723079  ALLELEID=913987;CLNDISDB=MONDO:MONDO:0015356,M...  \n",
      "2723080  ALLELEID=1677600;CLNDISDB=MONDO:MONDO:0016419,...  \n",
      "2723081  ALLELEID=328624;CLNDISDB=MONDO:MONDO:0003582,M...  \n",
      "\n",
      "[11046 rows x 8 columns]\n",
      "Number of single nucleotide variations in chromosome region: 11046\n"
     ]
    }
   ],
   "source": [
    "# Define the range you want to find for the gene\n",
    "chrom = '17'\n",
    "start_pos = 43044295\n",
    "end_pos = 43125364\n",
    "\n",
    "# Filter the DataFrame to find the region within the range for chr##\n",
    "alz_vcf = alz_vcf_raw[(alz_vcf_raw['CHROM'] == chrom) & \n",
    "                 (alz_vcf_raw['POS'] >= start_pos) & \n",
    "                 (alz_vcf_raw['POS'] <= end_pos) &\n",
    "                 (alz_vcf_raw[\"ALT\"].str.len() == 1) &\n",
    "                 (alz_vcf_raw[\"REF\"].str.len() == 1)]\n",
    "\n",
    "# Print the result\n",
    "print(alz_vcf)\n",
    "\n",
    "total_var = len(alz_vcf)\n",
    "print('Number of single nucleotide variations in chromosome region:', total_var)"
   ]
  },
  {
   "cell_type": "code",
   "execution_count": 82,
   "metadata": {},
   "outputs": [],
   "source": [
    "# this will help create a series from ; separators of vcf file\n",
    "def get_condition(x):\n",
    "    return x.split(\";\")[2]"
   ]
  },
  {
   "cell_type": "code",
   "execution_count": 83,
   "metadata": {},
   "outputs": [
    {
     "data": {
      "text/plain": [
       "2708619                                  CLNDN=not_specified\n",
       "2708620                                  CLNDN=not_specified\n",
       "2708622                                  CLNDN=not_specified\n",
       "2708623                                      ALLELEID=206190\n",
       "2708624                                      ALLELEID=259533\n",
       "                                 ...                        \n",
       "2723077                                   CLNDN=not_provided\n",
       "2723078    CLNDISDB=MONDO:MONDO:0015356,MeSH:D009386,MedG...\n",
       "2723079    CLNDN=Hereditary_cancer-predisposing_syndrome|...\n",
       "2723080                      CLNDN=Familial_cancer_of_breast\n",
       "2723081      CLNDN=Hereditary_breast_ovarian_cancer_syndrome\n",
       "Name: INFO, Length: 11046, dtype: object"
      ]
     },
     "execution_count": 83,
     "metadata": {},
     "output_type": "execute_result"
    }
   ],
   "source": [
    "# get only INFO column from dataframe\n",
    "alz_vcf.INFO.map(get_condition)"
   ]
  },
  {
   "cell_type": "code",
   "execution_count": 90,
   "metadata": {},
   "outputs": [
    {
     "name": "stdout",
     "output_type": "stream",
     "text": [
      "INFO\n",
      "CLNDN=Breast-ovarian_cancer,_familial,_susceptibility_to,_1                                                                                                                                                                                 2406\n",
      "CLNDN=Hereditary_cancer-predisposing_syndrome                                                                                                                                                                                               1029\n",
      "CLNDN=Hereditary_breast_ovarian_cancer_syndrome                                                                                                                                                                                             1006\n",
      "CLNDN=Hereditary_cancer-predisposing_syndrome|Hereditary_breast_ovarian_cancer_syndrome                                                                                                                                                      692\n",
      "CLNDN=Hereditary_breast_ovarian_cancer_syndrome|Hereditary_cancer-predisposing_syndrome                                                                                                                                                      605\n",
      "                                                                                                                                                                                                                                            ... \n",
      "CLNDN=Hereditary_breast_ovarian_cancer_syndrome|Familial_cancer_of_breast                                                                                                                                                                      1\n",
      "ALLELEID=69800                                                                                                                                                                                                                                 1\n",
      "CLNDISDB=MONDO:MONDO:0700268,MedGen:CN377757|MONDO:MONDO:0015356,MeSH:D009386,MedGen:C0027672,Orphanet:140162|MONDO:MONDO:0011450,MedGen:C2676676,OMIM:604370,Orphanet:145|MONDO:MONDO:0003582,MeSH:D061325,MedGen:C0677776,Orphanet:145       1\n",
      "CLNDN=Hereditary_breast_ovarian_cancer_syndrome|Breast-ovarian_cancer,_familial,_susceptibility_to,_1|not_provided|BRCA1-related_cancer_predisposition|Hereditary_cancer-predisposing_syndrome                                                 1\n",
      "CLNDISDB=MONDO:MONDO:0007254,MedGen:C0006142|MedGen:C3661900|MedGen:CN221562|MedGen:CN169374|MONDO:MONDO:0011450,MedGen:C2676676,OMIM:604370,Orphanet:145|MONDO:MONDO:0003582,MeSH:D061325,MedGen:C0677776,Orphanet:145                        1\n",
      "Name: count, Length: 1414, dtype: int64\n"
     ]
    }
   ],
   "source": [
    "counts_conditions = alz_vcf.INFO.map(lambda x: x.split(\";\")[2]).value_counts()\n",
    "# count all items in column in INFO\n",
    "print(counts_conditions)"
   ]
  },
  {
   "cell_type": "code",
   "execution_count": 98,
   "metadata": {},
   "outputs": [
    {
     "name": "stdout",
     "output_type": "stream",
     "text": [
      "INFO\n",
      "CLNDISDB=MedGen:CN169374|MONDO:MONDO:0011450,MedGen:C2676676,OMIM:604370,Orphanet:145|MONDO:MONDO:0015356,MeSH:D009386,MedGen:C0027672,Orphanet:140162|MONDO:MONDO:0003582,MeSH:D061325,MedGen:C0677776,Orphanet:145|MedGen:CN221562|MedGen:C3661900                                                                                    1\n",
      "CLNDN=Hereditary_cancer-predisposing_syndrome|Malignant_tumor_of_breast|Breast-ovarian_cancer,_familial,_susceptibility_to,_1|Hereditary_breast_ovarian_cancer_syndrome                                                                                                                                                                 1\n",
      "CLNDISDB=.|MedGen:C3661900|MONDO:MONDO:0013685,MedGen:C3280442,OMIM:614320,Orphanet:1333|MONDO:MONDO:0011450,MedGen:C2676676,OMIM:604370,Orphanet:145|MONDO:MONDO:0054748,MedGen:C4554406,OMIM:617883|MONDO:MONDO:0003582,MeSH:D061325,MedGen:C0677776,Orphanet:145|MONDO:MONDO:0015356,MeSH:D009386,MedGen:C0027672,Orphanet:140162    1\n",
      "CLNDN=Hereditary_breast_ovarian_cancer_syndrome|Familial_cancer_of_breast|Hereditary_cancer-predisposing_syndrome|Breast-ovarian_cancer,_familial,_susceptibility_to,_1                                                                                                                                                                 1\n",
      "CLNDN=Hereditary_breast_ovarian_cancer_syndrome|Colorectal_cancer|Breast-ovarian_cancer,_familial,_susceptibility_to,_1                                                                                                                                                                                                                 1\n",
      "                                                                                                                                                                                                                                                                                                                                       ..\n",
      "CLNDN=Hereditary_breast_ovarian_cancer_syndrome|Familial_cancer_of_breast                                                                                                                                                                                                                                                               1\n",
      "ALLELEID=69800                                                                                                                                                                                                                                                                                                                          1\n",
      "CLNDISDB=MONDO:MONDO:0700268,MedGen:CN377757|MONDO:MONDO:0015356,MeSH:D009386,MedGen:C0027672,Orphanet:140162|MONDO:MONDO:0011450,MedGen:C2676676,OMIM:604370,Orphanet:145|MONDO:MONDO:0003582,MeSH:D061325,MedGen:C0677776,Orphanet:145                                                                                                1\n",
      "CLNDN=Hereditary_breast_ovarian_cancer_syndrome|Breast-ovarian_cancer,_familial,_susceptibility_to,_1|not_provided|BRCA1-related_cancer_predisposition|Hereditary_cancer-predisposing_syndrome                                                                                                                                          1\n",
      "CLNDISDB=MONDO:MONDO:0007254,MedGen:C0006142|MedGen:C3661900|MedGen:CN221562|MedGen:CN169374|MONDO:MONDO:0011450,MedGen:C2676676,OMIM:604370,Orphanet:145|MONDO:MONDO:0003582,MeSH:D061325,MedGen:C0677776,Orphanet:145                                                                                                                 1\n",
      "Name: count, Length: 414, dtype: int64\n"
     ]
    }
   ],
   "source": [
    "print(counts_conditions[1000:1414])"
   ]
  },
  {
   "cell_type": "code",
   "execution_count": 85,
   "metadata": {},
   "outputs": [
    {
     "name": "stdout",
     "output_type": "stream",
     "text": [
      "INFO\n",
      "CLNDN=Breast-ovarian_cancer,_familial,_susceptibility_to,_1                                                                                                                                                                                                                                                                                                                      2406\n",
      "CLNDN=Hereditary_cancer-predisposing_syndrome                                                                                                                                                                                                                                                                                                                                    1029\n",
      "CLNDN=Hereditary_breast_ovarian_cancer_syndrome                                                                                                                                                                                                                                                                                                                                  1006\n",
      "CLNDN=Hereditary_cancer-predisposing_syndrome|Hereditary_breast_ovarian_cancer_syndrome                                                                                                                                                                                                                                                                                           692\n",
      "CLNDN=Hereditary_breast_ovarian_cancer_syndrome|Hereditary_cancer-predisposing_syndrome                                                                                                                                                                                                                                                                                           605\n",
      "                                                                                                                                                                                                                                                                                                                                                                                 ... \n",
      "CLNDN=Fanconi_anemia,_complementation_group_S|Pancreatic_cancer,_susceptibility_to,_4|Breast-ovarian_cancer,_familial,_susceptibility_to,_1|Familial_cancer_of_breast|Malignant_tumor_of_breast|Breast_and/or_ovarian_cancer|Hereditary_cancer-predisposing_syndrome|not_specified|not_provided|Hereditary_breast_ovarian_cancer_syndrome|BRCA1-related_cancer_predisposition       1\n",
      "CLNDN=Hereditary_cancer-predisposing_syndrome|not_specified|not_provided|Breast-ovarian_cancer,_familial,_susceptibility_to,_1|Hereditary_breast_ovarian_cancer_syndrome|BRCA1-related_disorder                                                                                                                                                                                     1\n",
      "CLNDN=not_specified|Hereditary_breast_ovarian_cancer_syndrome|BRCA1-related_disorder                                                                                                                                                                                                                                                                                                1\n",
      "CLNDN=Breast-ovarian_cancer,_familial,_susceptibility_to,_1|not_specified|Hereditary_cancer-predisposing_syndrome|not_provided|Hereditary_breast_ovarian_cancer_syndrome                                                                                                                                                                                                            1\n",
      "CLNDN=Breast-ovarian_cancer,_familial,_susceptibility_to,_1|Hereditary_breast_ovarian_cancer_syndrome|not_provided|Malignant_tumor_of_breast                                                                                                                                                                                                                                        1\n",
      "Name: count, Length: 818, dtype: int64\n"
     ]
    }
   ],
   "source": [
    "counts_conditions = alz_vcf.INFO.map(lambda x: x.split(\";\")[2] if x.split(\";\")[2].startswith('CLNDN') else None).value_counts()\n",
    "\n",
    "# count all items in column in INFO with just \"CLNDN\"\n",
    "print(counts_conditions)"
   ]
  },
  {
   "cell_type": "code",
   "execution_count": 86,
   "metadata": {},
   "outputs": [
    {
     "name": "stdout",
     "output_type": "stream",
     "text": [
      "INFO\n",
      "CLNDN=Breast-ovarian_cancer,_familial,_susceptibility_to,_1                                                                                                                                                                                                                                                                                                                      2406\n",
      "CLNDN=Hereditary_cancer-predisposing_syndrome                                                                                                                                                                                                                                                                                                                                    1029\n",
      "CLNDN=Hereditary_breast_ovarian_cancer_syndrome                                                                                                                                                                                                                                                                                                                                  1006\n",
      "CLNDN=Hereditary_cancer-predisposing_syndrome|Hereditary_breast_ovarian_cancer_syndrome                                                                                                                                                                                                                                                                                           692\n",
      "CLNDN=Hereditary_breast_ovarian_cancer_syndrome|Hereditary_cancer-predisposing_syndrome                                                                                                                                                                                                                                                                                           605\n",
      "                                                                                                                                                                                                                                                                                                                                                                                 ... \n",
      "CLNDN=Fanconi_anemia,_complementation_group_S|Pancreatic_cancer,_susceptibility_to,_4|Breast-ovarian_cancer,_familial,_susceptibility_to,_1|Familial_cancer_of_breast|Malignant_tumor_of_breast|Breast_and/or_ovarian_cancer|Hereditary_cancer-predisposing_syndrome|not_specified|not_provided|Hereditary_breast_ovarian_cancer_syndrome|BRCA1-related_cancer_predisposition       1\n",
      "CLNDN=Hereditary_cancer-predisposing_syndrome|not_specified|not_provided|Breast-ovarian_cancer,_familial,_susceptibility_to,_1|Hereditary_breast_ovarian_cancer_syndrome|BRCA1-related_disorder                                                                                                                                                                                     1\n",
      "CLNDN=not_specified|Hereditary_breast_ovarian_cancer_syndrome|BRCA1-related_disorder                                                                                                                                                                                                                                                                                                1\n",
      "CLNDN=Breast-ovarian_cancer,_familial,_susceptibility_to,_1|not_specified|Hereditary_cancer-predisposing_syndrome|not_provided|Hereditary_breast_ovarian_cancer_syndrome                                                                                                                                                                                                            1\n",
      "CLNDN=Breast-ovarian_cancer,_familial,_susceptibility_to,_1|Hereditary_breast_ovarian_cancer_syndrome|not_provided|Malignant_tumor_of_breast                                                                                                                                                                                                                                        1\n",
      "Name: count, Length: 816, dtype: int64\n"
     ]
    }
   ],
   "source": [
    "just_conditions = counts_conditions[~counts_conditions.index.isin([\"CLNDN=not_provided\",\"CLNDN=not_specified\"])]  \n",
    "# must put .index or it will only filter by the associated value and not the name\n",
    "\n",
    "print(just_conditions)"
   ]
  },
  {
   "cell_type": "code",
   "execution_count": 87,
   "metadata": {},
   "outputs": [
    {
     "name": "stdout",
     "output_type": "stream",
     "text": [
      "Breast-ovarian_cancer,_familial,_susceptibility_to,_1\n",
      "Hereditary_cancer-predisposing_syndrome\n",
      "Hereditary_breast_ovarian_cancer_syndrome\n",
      "Hereditary_cancer-predisposing_syndrome|Hereditary_breast_ovarian_cancer_syndrome\n",
      "Hereditary_breast_ovarian_cancer_syndrome|Hereditary_cancer-predisposing_syndrome\n"
     ]
    }
   ],
   "source": [
    "# list(map(print, just_conditions.head(5).index))\n",
    "for condition in just_conditions.head(5).index:\n",
    "    print(condition[6:])"
   ]
  },
  {
   "cell_type": "code",
   "execution_count": 88,
   "metadata": {},
   "outputs": [
    {
     "name": "stdout",
     "output_type": "stream",
     "text": [
      "['Breast-ovarian_cancer,_familial,_susceptibility_to,_1', 'Hereditary_cancer-predisposing_syndrome', 'Hereditary_breast_ovarian_cancer_syndrome', 'Hereditary_cancer-predisposing_syndrome|Hereditary_breast_ovarian_cancer_syndrome', 'Hereditary_breast_ovarian_cancer_syndrome|Hereditary_cancer-predisposing_syndrome']\n"
     ]
    }
   ],
   "source": [
    "top_cond = []\n",
    "for condition in just_conditions.head(5).index:\n",
    "    top_cond.append(str(condition[6:]))\n",
    "\n",
    "print(top_cond)"
   ]
  },
  {
   "cell_type": "code",
   "execution_count": 89,
   "metadata": {},
   "outputs": [
    {
     "name": "stdout",
     "output_type": "stream",
     "text": [
      "{'Breast-ovarian_cancer,_familial,_susceptibility_to,_1': 2406, 'Hereditary_cancer-predisposing_syndrome': 1029, 'Hereditary_breast_ovarian_cancer_syndrome': 1006, 'Hereditary_cancer-predisposing_syndrome|Hereditary_breast_ovarian_cancer_syndrome': 692, 'Hereditary_breast_ovarian_cancer_syndrome|Hereditary_cancer-predisposing_syndrome': 605}\n"
     ]
    }
   ],
   "source": [
    "# print(just_conditions.head(5))\n",
    "\n",
    "top_cond_dict = {str(condition[6:]): just_conditions[condition] for condition in just_conditions.head(5).index}\n",
    "# Print the dictionary\n",
    "print(top_cond_dict)"
   ]
  }
 ],
 "metadata": {
  "kernelspec": {
   "display_name": "Python 3",
   "language": "python",
   "name": "python3"
  },
  "language_info": {
   "codemirror_mode": {
    "name": "ipython",
    "version": 3
   },
   "file_extension": ".py",
   "mimetype": "text/x-python",
   "name": "python",
   "nbconvert_exporter": "python",
   "pygments_lexer": "ipython3",
   "version": "3.11.7"
  }
 },
 "nbformat": 4,
 "nbformat_minor": 2
}
