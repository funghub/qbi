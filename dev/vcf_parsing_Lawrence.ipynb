{
 "cells": [
  {
   "cell_type": "code",
   "execution_count": 31,
   "metadata": {},
   "outputs": [],
   "source": [
    "import io\n",
    "import os\n",
    "import pandas as pd"
   ]
  },
  {
   "cell_type": "code",
   "execution_count": 32,
   "metadata": {},
   "outputs": [],
   "source": [
    "# this will convert vcf to dataframe\n",
    "def read_vcf(path):\n",
    "    with open(path, 'r') as f:\n",
    "        lines = [l for l in f if not l.startswith('##')]\n",
    "    return pd.read_csv(\n",
    "        io.StringIO(''.join(lines)),\n",
    "        dtype={'#CHROM': str, 'POS': int, 'ID': str, 'REF': str, 'ALT': str,\n",
    "               'QUAL': str, 'FILTER': str, 'INFO': str},\n",
    "        sep='\\t'\n",
    "    ).rename(columns={'#CHROM': 'CHROM'})"
   ]
  },
  {
   "cell_type": "code",
   "execution_count": 33,
   "metadata": {},
   "outputs": [],
   "source": [
    "'''\n",
    "Example search:\n",
    "1. Find BRCA1 gene on UCSC Genome Browser and get chr17:43044295-43125364 \n",
    "2. Paste genome location into Clinvar search without the commas and filter for single nucleotide variation\n",
    "3. On Clinvar website navigate to \"FTP\" on Home bar\n",
    "4. Click on \"vcf_GRCh38/\"\n",
    "5. Click on \"clinvar.vcf.gz\" and it will download VCF\n",
    "6. Unzip the file and use that path below\n",
    "'''\n",
    "\n",
    "# ENTER your path to the vcf file\n",
    "alz_vcf = read_vcf(\"C:\\\\Users\\\\lawfu\\\\Documents\\\\Github Hackathon 2025\\\\clinvar.vcf\")"
   ]
  },
  {
   "cell_type": "code",
   "execution_count": 34,
   "metadata": {},
   "outputs": [
    {
     "name": "stdout",
     "output_type": "stream",
     "text": [
      "  CHROM    POS       ID REF ALT QUAL FILTER  \\\n",
      "0     1  66926  3385321  AG   A    .      .   \n",
      "1     1  69134  2205837   A   G    .      .   \n",
      "2     1  69314  3205580   T   G    .      .   \n",
      "3     1  69423  3205581   G   A    .      .   \n",
      "4     1  69581  2252161   C   G    .      .   \n",
      "\n",
      "                                                INFO  \n",
      "0  ALLELEID=3544463;CLNDISDB=Human_Phenotype_Onto...  \n",
      "1  ALLELEID=2193183;CLNDISDB=MedGen:CN169374;CLND...  \n",
      "2  ALLELEID=3374047;CLNDISDB=MedGen:CN169374;CLND...  \n",
      "3  ALLELEID=3374048;CLNDISDB=MedGen:CN169374;CLND...  \n",
      "4  ALLELEID=2238986;CLNDISDB=MedGen:CN169374;CLND...  \n"
     ]
    }
   ],
   "source": [
    "# show first 5 of dataframe\n",
    "print(alz_vcf.head())"
   ]
  },
  {
   "cell_type": "code",
   "execution_count": 35,
   "metadata": {},
   "outputs": [],
   "source": [
    "# this will help create a series from ; separators of vcf file\n",
    "def get_condition(x):\n",
    "    return x.split(\";\")[2]"
   ]
  },
  {
   "cell_type": "code",
   "execution_count": 36,
   "metadata": {},
   "outputs": [
    {
     "data": {
      "text/plain": [
       "0                         CLNDN=Retinitis_pigmentosa\n",
       "1                                CLNDN=not_specified\n",
       "2                                CLNDN=not_specified\n",
       "3                                CLNDN=not_specified\n",
       "4                                CLNDN=not_specified\n",
       "                             ...                    \n",
       "3368280                          CLNDN=not_specified\n",
       "3368281                          CLNDN=not_specified\n",
       "3368282                          CLNDN=not_specified\n",
       "3368283                          CLNDN=not_specified\n",
       "3368284    CLNDN=ABO_blood_group_system|not_provided\n",
       "Name: INFO, Length: 3368285, dtype: object"
      ]
     },
     "execution_count": 36,
     "metadata": {},
     "output_type": "execute_result"
    }
   ],
   "source": [
    "# get only INFO column from dataframe\n",
    "alz_vcf.INFO.map(get_condition)"
   ]
  },
  {
   "cell_type": "code",
   "execution_count": 37,
   "metadata": {},
   "outputs": [
    {
     "name": "stdout",
     "output_type": "stream",
     "text": [
      "INFO\n",
      "CLNDN=not_provided                               643692\n",
      "CLNDN=not_specified                              628798\n",
      "CLNDISDB=MedGen:C3661900                         132026\n",
      "CLNDN=Inborn_genetic_diseases                    114145\n",
      "CLNDN=Hereditary_cancer-predisposing_syndrome     44164\n",
      "                                                  ...  \n",
      "ALLELEID=1695008                                      1\n",
      "ALLELEID=522568                                       1\n",
      "ALLELEID=722465                                       1\n",
      "ALLELEID=561510                                       1\n",
      "CLNDN=ABO_blood_group_system|not_provided             1\n",
      "Name: count, Length: 322229, dtype: int64\n"
     ]
    }
   ],
   "source": [
    "counts_conditions = alz_vcf.INFO.map(lambda x: x.split(\";\")[2]).value_counts()\n",
    "# count all items in column in INFO\n",
    "print(counts_conditions)"
   ]
  },
  {
   "cell_type": "code",
   "execution_count": 38,
   "metadata": {},
   "outputs": [
    {
     "name": "stdout",
     "output_type": "stream",
     "text": [
      "INFO\n",
      "CLNDN=not_provided                                                     643692\n",
      "CLNDN=not_specified                                                    628798\n",
      "CLNDN=Inborn_genetic_diseases                                          114145\n",
      "CLNDN=Hereditary_cancer-predisposing_syndrome                           44164\n",
      "CLNDN=Cardiovascular_phenotype                                          23146\n",
      "                                                                        ...  \n",
      "CLNDN=Cohen_syndrome|not_specified|not_provided                             1\n",
      "CLNDN=not_provided|VPS13B-related_disorder                                  1\n",
      "CLNDN=Cohen_syndrome|not_provided|Abnormality_of_the_nervous_system         1\n",
      "CLNDN=not_provided|Abnormality_of_the_nervous_system|Cohen_syndrome         1\n",
      "CLNDN=ABO_blood_group_system|not_provided                                   1\n",
      "Name: count, Length: 100057, dtype: int64\n"
     ]
    }
   ],
   "source": [
    "counts_conditions = alz_vcf.INFO.map(lambda x: x.split(\";\")[2] if x.split(\";\")[2].startswith('CLNDN') else None).value_counts()\n",
    "\n",
    "# count all items in column in INFO with just \"CLNDN\"\n",
    "print(counts_conditions)"
   ]
  },
  {
   "cell_type": "code",
   "execution_count": 39,
   "metadata": {},
   "outputs": [
    {
     "name": "stdout",
     "output_type": "stream",
     "text": [
      "INFO\n",
      "CLNDN=Inborn_genetic_diseases                                          114145\n",
      "CLNDN=Hereditary_cancer-predisposing_syndrome                           44164\n",
      "CLNDN=Cardiovascular_phenotype                                          23146\n",
      "CLNDN=Primary_ciliary_dyskinesia                                        15306\n",
      "CLNDN=Inborn_genetic_diseases|not_provided                               9715\n",
      "                                                                        ...  \n",
      "CLNDN=Cohen_syndrome|not_specified|not_provided                             1\n",
      "CLNDN=not_provided|VPS13B-related_disorder                                  1\n",
      "CLNDN=Cohen_syndrome|not_provided|Abnormality_of_the_nervous_system         1\n",
      "CLNDN=not_provided|Abnormality_of_the_nervous_system|Cohen_syndrome         1\n",
      "CLNDN=ABO_blood_group_system|not_provided                                   1\n",
      "Name: count, Length: 100055, dtype: int64\n"
     ]
    }
   ],
   "source": [
    "just_conditions = counts_conditions[~counts_conditions.index.isin([\"CLNDN=not_provided\",\"CLNDN=not_specified\"])]  \n",
    "# must put .index or it will only filter by the associated value and not the name\n",
    "\n",
    "print(just_conditions)"
   ]
  },
  {
   "cell_type": "code",
   "execution_count": 40,
   "metadata": {},
   "outputs": [
    {
     "name": "stdout",
     "output_type": "stream",
     "text": [
      "Inborn_genetic_diseases\n",
      "Hereditary_cancer-predisposing_syndrome\n",
      "Cardiovascular_phenotype\n",
      "Primary_ciliary_dyskinesia\n",
      "Inborn_genetic_diseases|not_provided\n"
     ]
    }
   ],
   "source": [
    "# list(map(print, just_conditions.head(5).index))\n",
    "for condition in just_conditions.head(5).index:\n",
    "    print(condition[6:])"
   ]
  },
  {
   "cell_type": "code",
   "execution_count": 41,
   "metadata": {},
   "outputs": [
    {
     "name": "stdout",
     "output_type": "stream",
     "text": [
      "['Inborn_genetic_diseases', 'Hereditary_cancer-predisposing_syndrome', 'Cardiovascular_phenotype', 'Primary_ciliary_dyskinesia', 'Inborn_genetic_diseases|not_provided']\n"
     ]
    }
   ],
   "source": [
    "top_cond = []\n",
    "for condition in just_conditions.head(5).index:\n",
    "    top_cond.append(str(condition[6:]))\n",
    "\n",
    "print(top_cond)"
   ]
  },
  {
   "cell_type": "code",
   "execution_count": 42,
   "metadata": {},
   "outputs": [
    {
     "name": "stdout",
     "output_type": "stream",
     "text": [
      "{'Inborn_genetic_diseases': 114145, 'Hereditary_cancer-predisposing_syndrome': 44164, 'Cardiovascular_phenotype': 23146, 'Primary_ciliary_dyskinesia': 15306, 'Inborn_genetic_diseases|not_provided': 9715}\n"
     ]
    }
   ],
   "source": [
    "# print(just_conditions.head(5))\n",
    "\n",
    "top_cond_dict = {str(condition[6:]): just_conditions[condition] for condition in just_conditions.head(5).index}\n",
    "# Print the dictionary\n",
    "print(top_cond_dict)"
   ]
  }
 ],
 "metadata": {
  "kernelspec": {
   "display_name": "Python 3",
   "language": "python",
   "name": "python3"
  },
  "language_info": {
   "codemirror_mode": {
    "name": "ipython",
    "version": 3
   },
   "file_extension": ".py",
   "mimetype": "text/x-python",
   "name": "python",
   "nbconvert_exporter": "python",
   "pygments_lexer": "ipython3",
   "version": "3.11.7"
  }
 },
 "nbformat": 4,
 "nbformat_minor": 2
}
