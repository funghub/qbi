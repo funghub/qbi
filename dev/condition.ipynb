{
 "cells": [
  {
   "cell_type": "code",
   "execution_count": 14,
   "metadata": {},
   "outputs": [],
   "source": [
    "import requests\n",
    "from bs4 import BeautifulSoup\n",
    "from urllib.parse import quote\n",
    "\n",
    "def extract_all_syndrome_names(html):\n",
    "    # Parse the HTML content\n",
    "    soup = html\n",
    "    \n",
    "    # Find all 'td' elements with the class 'pad-right'\n",
    "    syndrome_td = soup.find_all('td', class_='pad-right')\n",
    "    \n",
    "    # Extract the text inside these 'td' elements\n",
    "    syndrome_names = [td.get_text(strip=True) for td in syndrome_td]\n",
    "    \n",
    "    # Filter and return all occurrences of the syndrome name\n",
    "    syndrome_list = [name for name in syndrome_names]\n",
    "    \n",
    "    return syndrome_list\n",
    "\n",
    "\n",
    "def fetch_and_parse_html(ucsc_coords: str, assembly=\"GRCh38\"):\n",
    "    # Set up the headers like in the JavaScript fetch request\n",
    "    encoded_coords = quote(ucsc_coords)\n",
    "\n",
    "    headers = {\n",
    "        \"User-Agent\": \"Mozilla/5.0 (Windows NT 10.0; Win64; x64; rv:136.0) Gecko/20100101 Firefox/136.0\",\n",
    "        \"Accept\": \"text/html,application/xhtml+xml,application/xml;q=0.9,*/*;q=0.8\",\n",
    "        \"Accept-Language\": \"en-US,en;q=0.5\",\n",
    "        \"Upgrade-Insecure-Requests\": \"1\",\n",
    "        \"Sec-Fetch-Dest\": \"document\",\n",
    "        \"Sec-Fetch-Mode\": \"navigate\",\n",
    "        \"Sec-Fetch-Site\": \"same-origin\",\n",
    "        \"Sec-Fetch-User\": \"?1\",\n",
    "        \"Sec-GPC\": \"1\"\n",
    "    }\n",
    "\n",
    "    url = f\"https://www.ncbi.nlm.nih.gov/clinvar/?term={encoded_coords}\"\n",
    "    print(url)\n",
    "\n",
    "\n",
    "    # Send the GET request with the headers\n",
    "    response = requests.get(url, headers=headers)\n",
    "\n",
    "    # Check if the request was successful\n",
    "    if response.status_code == 200:\n",
    "        # Parse the content of the page with BeautifulSoup\n",
    "        soup = BeautifulSoup(response.text, 'html.parser')\n",
    "\n",
    "        data = extract_all_syndrome_names(soup)\n",
    "\n",
    "        # Return the parsed HTML (You can perform further operations on the soup here)\n",
    "        return data\n",
    "    else:\n",
    "        # If the request fails, return the status code for debugging\n",
    "        return f\"Failed to retrieve content. Status code: {response.status_code}\"\n",
    "\n"
   ]
  },
  {
   "cell_type": "code",
   "execution_count": 15,
   "metadata": {},
   "outputs": [
    {
     "name": "stdout",
     "output_type": "stream",
     "text": [
      "https://www.ncbi.nlm.nih.gov/clinvar/?term=chr1%3A10636604-10796646\n",
      "['See cases', 'See cases', 'See cases', 'See cases', 'See cases', 'See cases', 'See cases', 'See cases', 'See cases', 'See cases', 'See cases', 'See cases', 'See cases', 'See cases', 'See cases', 'See cases', 'Peroxisome biogenesis disorder, complementation group K', 'not provided', 'Peroxisome biogenesis disorder, complementation group K', 'Peroxisome biogenesis disorder, complementation group K+1more', 'Peroxisome biogenesis disorder, complementation group K', 'Peroxisome biogenesis disorder, complementation group K+1more', 'not provided+1more', 'Peroxisome biogenesis disorder, complementation group K+1more', 'Peroxisome biogenesis disorder, complementation group K', 'Peroxisome biogenesis disorder, complementation group K', 'Inborn genetic diseases', 'Peroxisome biogenesis disorder 13A (Zellweger)+1more', 'Inborn genetic diseases', 'Peroxisome biogenesis disorder, complementation group K', 'not provided+3 more', 'Peroxisome biogenesis disorder, complementation group K+1more', 'Peroxisome biogenesis disorder, complementation group K', 'Peroxisome biogenesis disorder, complementation group K+1more', 'Peroxisome biogenesis disorder, complementation group K', 'Peroxisome biogenesis disorder, complementation group K', 'Peroxisome biogenesis disorder, complementation group K', 'Peroxisome biogenesis disorder, complementation group K', 'Peroxisome biogenesis disorder, complementation group K', 'Peroxisome biogenesis disorder, complementation group K', 'not provided+1more', 'Peroxisome biogenesis disorder, complementation group K', 'Peroxisome biogenesis disorder, complementation group K', 'Peroxisome biogenesis disorder 13A (Zellweger)+3 more', 'Peroxisome biogenesis disorder, complementation group K', 'Peroxisome biogenesis disorder, complementation group K', 'Peroxisome biogenesis disorder, complementation group K', 'Peroxisome biogenesis disorder, complementation group K', 'Peroxisome biogenesis disorder, complementation group K', 'Peroxisome biogenesis disorder 13A (Zellweger)+2 more', 'Peroxisome biogenesis disorder, complementation group K', 'Peroxisome biogenesis disorder, complementation group K', 'Peroxisome biogenesis disorder, complementation group K', 'Peroxisome biogenesis disorder, complementation group K', 'Peroxisome biogenesis disorder, complementation group K', 'Peroxisome biogenesis disorder, complementation group K', 'Peroxisome biogenesis disorder, complementation group K', 'Peroxisome biogenesis disorder, complementation group K', 'Peroxisome biogenesis disorder, complementation group K', 'Peroxisome biogenesis disorder, complementation group K', 'Peroxisome biogenesis disorder, complementation group K', 'Peroxisome biogenesis disorder, complementation group K', 'Peroxisome biogenesis disorder, complementation group K', 'Peroxisome biogenesis disorder, complementation group K', 'Peroxisome biogenesis disorder, complementation group K', 'not provided+1more', 'Peroxisome biogenesis disorder, complementation group K', 'Peroxisome biogenesis disorder, complementation group K', 'Peroxisome biogenesis disorder, complementation group K', 'Peroxisome biogenesis disorder, complementation group K+1more', 'Peroxisome biogenesis disorder, complementation group K+1more', 'Peroxisome biogenesis disorder, complementation group K', 'Peroxisome biogenesis disorder, complementation group K', 'Peroxisome biogenesis disorder, complementation group K', 'Peroxisome biogenesis disorder, complementation group K', 'not provided+1more', 'Peroxisome biogenesis disorder, complementation group K', 'Peroxisome biogenesis disorder, complementation group K', 'Peroxisome biogenesis disorder, complementation group K', 'Peroxisome biogenesis disorder, complementation group K', 'Peroxisome biogenesis disorder, complementation group K', 'Peroxisome biogenesis disorder, complementation group K+1more', 'Peroxisome biogenesis disorder, complementation group K', 'Peroxisome biogenesis disorder, complementation group K', 'Peroxisome biogenesis disorder, complementation group K+1more', 'not provided+1more', 'Peroxisome biogenesis disorder, complementation group K', 'Peroxisome biogenesis disorder, complementation group K', 'Peroxisome biogenesis disorder, complementation group K', 'Peroxisome biogenesis disorder, complementation group K', 'Peroxisome biogenesis disorder, complementation group K+2 more', 'Peroxisome biogenesis disorder, complementation group K', 'Peroxisome biogenesis disorder, complementation group K', 'Peroxisome biogenesis disorder, complementation group K+2 more', 'Peroxisome biogenesis disorder, complementation group K', 'Peroxisome biogenesis disorder 13A (Zellweger)+2 more', 'Peroxisome biogenesis disorder, complementation group K', 'Peroxisome biogenesis disorder, complementation group K', 'Peroxisome biogenesis disorder, complementation group K', 'Peroxisome biogenesis disorder, complementation group K']\n"
     ]
    }
   ],
   "source": [
    "data = fetch_and_parse_html(\"chr1:10636604-10796646\")\n",
    "print(data)"
   ]
  },
  {
   "cell_type": "code",
   "execution_count": 6,
   "metadata": {},
   "outputs": [
    {
     "name": "stdout",
     "output_type": "stream",
     "text": [
      "['See cases', 'See cases', 'See cases', 'See cases', 'See cases', 'See cases', 'See cases', 'See cases', 'See cases', 'See cases', 'See cases', 'See cases', 'See cases', 'See cases', 'See cases', 'See cases', 'See cases', 'See cases', 'See cases', 'See cases', 'See cases', 'See cases', 'See cases', 'See cases', 'See cases', 'See cases', 'See cases', 'See cases', 'See cases', 'See cases', 'See cases', 'See cases', 'See cases', 'See cases', 'See cases', 'See cases', 'See cases', 'See cases', 'See cases', 'See cases', 'See cases', 'See cases', 'See cases', 'See cases', 'See cases', 'not provided', 'Chromosome 1p36 deletion syndrome', 'not provided', 'not provided', 'not provided', 'Harel-Yoon syndrome', 'See cases', 'not provided', 'See cases', 'See cases', 'Neurodevelopmental disorder', 'not provided', 'Chromosome 1p36 deletion syndrome', 'Chromosome 1p36 deletion syndrome', 'See cases', 'See cases', 'See cases', 'See cases']\n"
     ]
    }
   ],
   "source": [
    "def extract_all_syndrome_names(html):\n",
    "    # Parse the HTML content\n",
    "    soup = html\n",
    "    \n",
    "    # Find all 'td' elements with the class 'pad-right'\n",
    "    syndrome_td = soup.find_all('td', class_='pad-right')\n",
    "    \n",
    "    # Extract the text inside these 'td' elements\n",
    "    syndrome_names = [td.get_text(strip=True) for td in syndrome_td]\n",
    "    \n",
    "    # Filter and return all occurrences of the syndrome name\n",
    "    syndrome_list = [name for name in syndrome_names]\n",
    "    \n",
    "    return syndrome_list\n",
    "\n",
    "# Call the function to extract all syndrome names\n",
    "syndrome_names = extract_all_syndrome_names(html_content)\n",
    "\n",
    "# Print the result\n",
    "print(syndrome_names)"
   ]
  },
  {
   "cell_type": "code",
   "execution_count": 8,
   "metadata": {},
   "outputs": [
    {
     "name": "stdout",
     "output_type": "stream",
     "text": [
      "Counter({'See cases': 52, 'not provided': 6, 'Chromosome 1p36 deletion syndrome': 3, 'Harel-Yoon syndrome': 1, 'Neurodevelopmental disorder': 1})\n"
     ]
    }
   ],
   "source": [
    "from collections import Counter\n",
    "\n",
    "count_syndromes = Counter(syndrome_names)\n",
    "print(count_syndromes)"
   ]
  }
 ],
 "metadata": {
  "kernelspec": {
   "display_name": "base",
   "language": "python",
   "name": "python3"
  },
  "language_info": {
   "codemirror_mode": {
    "name": "ipython",
    "version": 3
   },
   "file_extension": ".py",
   "mimetype": "text/x-python",
   "name": "python",
   "nbconvert_exporter": "python",
   "pygments_lexer": "ipython3",
   "version": "3.11.7"
  }
 },
 "nbformat": 4,
 "nbformat_minor": 2
}
