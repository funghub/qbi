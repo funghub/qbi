{
 "cells": [
  {
   "cell_type": "code",
   "execution_count": 1,
   "metadata": {},
   "outputs": [],
   "source": [
    "import requests\n",
    "import urllib.parse\n",
    "import pandas as pd"
   ]
  },
  {
   "cell_type": "code",
   "execution_count": 3,
   "metadata": {},
   "outputs": [],
   "source": [
    "\n",
    "def get_clinvar_data(ucsc_coords: str, assembly=\"GRCh38\"):\n",
    "    \"\"\"\n",
    "    Fetches ClinVar data for a given UCSC-style chromosome location.\n",
    "\n",
    "    Args:\n",
    "        ucsc_coords (str): Chromosome coordinates in UCSC format (e.g., 'chr2:12345-12345').\n",
    "        assembly (str): Genome assembly ('GRCh38' or 'GRCh37').\n",
    "\n",
    "    Returns:\n",
    "        dict: JSON response from ClinVar if successful, otherwise None.\n",
    "    \"\"\"\n",
    "    base_url = \"https://www.ncbi.nlm.nih.gov/clinvar/variation/search/\"\n",
    "\n",
    "    # Parse the UCSC coordinate format (e.g., 'chr2:12345-67890')\n",
    "    try:\n",
    "        chrom, pos_range = ucsc_coords.replace(\"chr\", \"\").split(\":\")\n",
    "        start, end = pos_range.split(\"-\")\n",
    "    except ValueError:\n",
    "        print(\"Invalid UCSC coordinate format. Expected format: 'chr2:12345-67890'\")\n",
    "        return None\n",
    "\n",
    "    # Construct the query for ClinVar\n",
    "    query = f\"({chrom}[CHR] AND {start}:{end}[CPOS])\"\n",
    "\n",
    "    # URL encode the query\n",
    "    encoded_query = urllib.parse.quote(query, safe=\"()[]:\")\n",
    "\n",
    "    # Construct the full URL with the appropriate genome assembly\n",
    "    assembly_id = \"GCF_000001405.38\" if assembly == \"GRCh38\" else \"GCF_000001405.25\"\n",
    "    full_url = f\"{base_url}?term={encoded_query}&assembly={assembly_id}\"\n",
    "\n",
    "    headers = {\n",
    "        \"accept\": \"application/json, text/javascript, */*; q=0.01\",\n",
    "        \"accept-language\": \"en-US,en;q=0.9\",\n",
    "        \"Referer\": \"https://www.ncbi.nlm.nih.gov/clinvar/\",\n",
    "    }\n",
    "\n",
    "    try:\n",
    "        response = requests.get(full_url, headers=headers)\n",
    "        response.raise_for_status()  # Raise an error for HTTP issues\n",
    "        return response.json()  # Return JSON response\n",
    "    except requests.exceptions.RequestException as e:\n",
    "        print(f\"Error fetching ClinVar data: {e}\")\n",
    "        return None\n",
    "\n"
   ]
  },
  {
   "cell_type": "code",
   "execution_count": 4,
   "metadata": {},
   "outputs": [],
   "source": [
    "# Example usage\n",
    "ucsc_input = \"chr2:12345-67890\"\n",
    "result = get_clinvar_data(ucsc_input)\n",
    "\n"
   ]
  },
  {
   "cell_type": "code",
   "execution_count": 5,
   "metadata": {},
   "outputs": [
    {
     "name": "stdout",
     "output_type": "stream",
     "text": [
      "dict_keys(['vars', 'genes', 'chr_info', 'query'])\n"
     ]
    }
   ],
   "source": [
    "print(result.keys())"
   ]
  },
  {
   "cell_type": "code",
   "execution_count": 6,
   "metadata": {},
   "outputs": [
    {
     "name": "stdout",
     "output_type": "stream",
     "text": [
      "{'id': 155714, 'ci': 'Uncertain significance', 'revstat': 'no assertion criteria provided', 'desc': '4.3Mb copy number gain', 'locs': [{'from': 12770, 'to': 4318861, 'assm': 'GCF_000001405.38', 'chr': '2'}]}\n"
     ]
    }
   ],
   "source": [
    "#get a variant\n",
    "vars = result[\"vars\"]\n",
    "print(vars[0])"
   ]
  },
  {
   "cell_type": "code",
   "execution_count": 7,
   "metadata": {},
   "outputs": [
    {
     "data": {
      "text/html": [
       "<div>\n",
       "<style scoped>\n",
       "    .dataframe tbody tr th:only-of-type {\n",
       "        vertical-align: middle;\n",
       "    }\n",
       "\n",
       "    .dataframe tbody tr th {\n",
       "        vertical-align: top;\n",
       "    }\n",
       "\n",
       "    .dataframe thead th {\n",
       "        text-align: right;\n",
       "    }\n",
       "</style>\n",
       "<table border=\"1\" class=\"dataframe\">\n",
       "  <thead>\n",
       "    <tr style=\"text-align: right;\">\n",
       "      <th></th>\n",
       "      <th>id</th>\n",
       "      <th>ci</th>\n",
       "      <th>revstat</th>\n",
       "      <th>desc</th>\n",
       "      <th>locs</th>\n",
       "    </tr>\n",
       "  </thead>\n",
       "  <tbody>\n",
       "    <tr>\n",
       "      <th>0</th>\n",
       "      <td>155714</td>\n",
       "      <td>Uncertain significance</td>\n",
       "      <td>no assertion criteria provided</td>\n",
       "      <td>4.3Mb copy number gain</td>\n",
       "      <td>[{'from': 12770, 'to': 4318861, 'assm': 'GCF_0...</td>\n",
       "    </tr>\n",
       "    <tr>\n",
       "      <th>1</th>\n",
       "      <td>155609</td>\n",
       "      <td>Uncertain significance</td>\n",
       "      <td>no assertion criteria provided</td>\n",
       "      <td>221.8kb copy number loss</td>\n",
       "      <td>[{'from': 12770, 'to': 234590, 'assm': 'GCF_00...</td>\n",
       "    </tr>\n",
       "    <tr>\n",
       "      <th>2</th>\n",
       "      <td>153520</td>\n",
       "      <td>Pathogenic</td>\n",
       "      <td>no assertion criteria provided</td>\n",
       "      <td>25.0Mb copy number gain</td>\n",
       "      <td>[{'from': 12770, 'to': 25039694, 'assm': 'GCF_...</td>\n",
       "    </tr>\n",
       "    <tr>\n",
       "      <th>3</th>\n",
       "      <td>153475</td>\n",
       "      <td>Pathogenic</td>\n",
       "      <td>no assertion criteria provided</td>\n",
       "      <td>2.7Mb copy number loss</td>\n",
       "      <td>[{'from': 12770, 'to': 2748672, 'assm': 'GCF_0...</td>\n",
       "    </tr>\n",
       "    <tr>\n",
       "      <th>4</th>\n",
       "      <td>153441</td>\n",
       "      <td>Pathogenic</td>\n",
       "      <td>no assertion criteria provided</td>\n",
       "      <td>33.7Mb copy number gain</td>\n",
       "      <td>[{'from': 12770, 'to': 33711509, 'assm': 'GCF_...</td>\n",
       "    </tr>\n",
       "  </tbody>\n",
       "</table>\n",
       "</div>"
      ],
      "text/plain": [
       "       id                      ci                         revstat  \\\n",
       "0  155714  Uncertain significance  no assertion criteria provided   \n",
       "1  155609  Uncertain significance  no assertion criteria provided   \n",
       "2  153520              Pathogenic  no assertion criteria provided   \n",
       "3  153475              Pathogenic  no assertion criteria provided   \n",
       "4  153441              Pathogenic  no assertion criteria provided   \n",
       "\n",
       "                       desc                                               locs  \n",
       "0    4.3Mb copy number gain  [{'from': 12770, 'to': 4318861, 'assm': 'GCF_0...  \n",
       "1  221.8kb copy number loss  [{'from': 12770, 'to': 234590, 'assm': 'GCF_00...  \n",
       "2   25.0Mb copy number gain  [{'from': 12770, 'to': 25039694, 'assm': 'GCF_...  \n",
       "3    2.7Mb copy number loss  [{'from': 12770, 'to': 2748672, 'assm': 'GCF_0...  \n",
       "4   33.7Mb copy number gain  [{'from': 12770, 'to': 33711509, 'assm': 'GCF_...  "
      ]
     },
     "execution_count": 7,
     "metadata": {},
     "output_type": "execute_result"
    }
   ],
   "source": [
    "#dataframe of variants\n",
    "variant_df = pd.DataFrame(vars)\n",
    "variant_df.head()"
   ]
  },
  {
   "cell_type": "code",
   "execution_count": null,
   "metadata": {},
   "outputs": [
    {
     "ename": "SyntaxError",
     "evalue": "unmatched ')' (1510544452.py, line 1)",
     "output_type": "error",
     "traceback": [
      "\u001b[1;36m  Cell \u001b[1;32mIn[11], line 1\u001b[1;36m\u001b[0m\n\u001b[1;33m    count_variant = variant_df['ci']).value_counts()\u001b[0m\n\u001b[1;37m                                    ^\u001b[0m\n\u001b[1;31mSyntaxError\u001b[0m\u001b[1;31m:\u001b[0m unmatched ')'\n"
     ]
    }
   ],
   "source": [
    "count_variant = variant_df['ci'].value_counts()\n",
    "print(count_variant)"
   ]
  }
 ],
 "metadata": {
  "kernelspec": {
   "display_name": "base",
   "language": "python",
   "name": "python3"
  },
  "language_info": {
   "codemirror_mode": {
    "name": "ipython",
    "version": 3
   },
   "file_extension": ".py",
   "mimetype": "text/x-python",
   "name": "python",
   "nbconvert_exporter": "python",
   "pygments_lexer": "ipython3",
   "version": "3.12.7"
  }
 },
 "nbformat": 4,
 "nbformat_minor": 2
}
