{
 "cells": [
  {
   "cell_type": "code",
   "execution_count": 7,
   "metadata": {},
   "outputs": [],
   "source": [
    "import requests\n",
    "import urllib.parse\n",
    "import pandas as pd"
   ]
  },
  {
   "cell_type": "code",
   "execution_count": 2,
   "metadata": {},
   "outputs": [],
   "source": [
    "\n",
    "def get_clinvar_data(ucsc_coords: str, assembly=\"GRCh38\"):\n",
    "    \"\"\"\n",
    "    Fetches ClinVar data for a given UCSC-style chromosome location.\n",
    "\n",
    "    Args:\n",
    "        ucsc_coords (str): Chromosome coordinates in UCSC format (e.g., 'chr2:12345-12345').\n",
    "        assembly (str): Genome assembly ('GRCh38' or 'GRCh37').\n",
    "\n",
    "    Returns:\n",
    "        dict: JSON response from ClinVar if successful, otherwise None.\n",
    "    \"\"\"\n",
    "    base_url = \"https://www.ncbi.nlm.nih.gov/clinvar/variation/search/\"\n",
    "\n",
    "    # Parse the UCSC coordinate format (e.g., 'chr2:12345-67890')\n",
    "    try:\n",
    "        chrom, pos_range = ucsc_coords.replace(\"chr\", \"\").split(\":\")\n",
    "        start, end = pos_range.split(\"-\")\n",
    "    except ValueError:\n",
    "        print(\"Invalid UCSC coordinate format. Expected format: 'chr2:12345-67890'\")\n",
    "        return None\n",
    "\n",
    "    # Construct the query for ClinVar\n",
    "    query = f\"({chrom}[CHR] AND {start}:{end}[CPOS])\"\n",
    "\n",
    "    # URL encode the query\n",
    "    encoded_query = urllib.parse.quote(query, safe=\"()[]:\")\n",
    "\n",
    "    # Construct the full URL with the appropriate genome assembly\n",
    "    assembly_id = \"GCF_000001405.38\" if assembly == \"GRCh38\" else \"GCF_000001405.25\"\n",
    "    full_url = f\"{base_url}?term={encoded_query}&assembly={assembly_id}\"\n",
    "\n",
    "    headers = {\n",
    "        \"accept\": \"application/json, text/javascript, */*; q=0.01\",\n",
    "        \"accept-language\": \"en-US,en;q=0.9\",\n",
    "        \"Referer\": \"https://www.ncbi.nlm.nih.gov/clinvar/\",\n",
    "    }\n",
    "\n",
    "    try:\n",
    "        response = requests.get(full_url, headers=headers)\n",
    "        response.raise_for_status()  # Raise an error for HTTP issues\n",
    "        return response.json()  # Return JSON response\n",
    "    except requests.exceptions.RequestException as e:\n",
    "        print(f\"Error fetching ClinVar data: {e}\")\n",
    "        return None\n",
    "\n"
   ]
  },
  {
   "cell_type": "code",
   "execution_count": null,
   "metadata": {},
   "outputs": [
    {
     "name": "stdout",
     "output_type": "stream",
     "text": [
      "<built-in method keys of dict object at 0x000002795BAAB0C0>\n"
     ]
    }
   ],
   "source": [
    "# Example usage\n",
    "ucsc_input = \"chr2:12345-67890\"\n",
    "result = get_clinvar_data(ucsc_input)\n",
    "\n"
   ]
  },
  {
   "cell_type": "code",
   "execution_count": 4,
   "metadata": {},
   "outputs": [
    {
     "name": "stdout",
     "output_type": "stream",
     "text": [
      "dict_keys(['vars', 'genes', 'chr_info', 'query'])\n"
     ]
    }
   ],
   "source": [
    "print(result.keys())"
   ]
  },
  {
   "cell_type": "code",
   "execution_count": null,
   "metadata": {},
   "outputs": [
    {
     "name": "stdout",
     "output_type": "stream",
     "text": [
      "{'id': 155714, 'ci': 'Uncertain significance', 'revstat': 'no assertion criteria provided', 'desc': '4.3Mb copy number gain', 'locs': [{'from': 12770, 'to': 4318861, 'assm': 'GCF_000001405.38', 'chr': '2'}]}\n"
     ]
    }
   ],
   "source": [
    "#get a variant\n",
    "vars = result[\"vars\"]\n",
    "print(vars[0])"
   ]
  },
  {
   "cell_type": "code",
   "execution_count": null,
   "metadata": {},
   "outputs": [],
   "source": [
    "#dataframe of variants\n",
    "variant_df = pd.DataFrame(vars)\n",
    "variant_df.head()"
   ]
  }
 ],
 "metadata": {
  "kernelspec": {
   "display_name": "base",
   "language": "python",
   "name": "python3"
  },
  "language_info": {
   "codemirror_mode": {
    "name": "ipython",
    "version": 3
   },
   "file_extension": ".py",
   "mimetype": "text/x-python",
   "name": "python",
   "nbconvert_exporter": "python",
   "pygments_lexer": "ipython3",
   "version": "3.12.3"
  }
 },
 "nbformat": 4,
 "nbformat_minor": 2
}
