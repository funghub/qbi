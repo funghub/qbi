{
 "cells": [
  {
   "cell_type": "code",
   "execution_count": 2,
   "metadata": {},
   "outputs": [
    {
     "name": "stderr",
     "output_type": "stream",
     "text": [
      "\n",
      "A module that was compiled using NumPy 1.x cannot be run in\n",
      "NumPy 2.2.3 as it may crash. To support both 1.x and 2.x\n",
      "versions of NumPy, modules must be compiled with NumPy 2.0.\n",
      "Some module may need to rebuild instead e.g. with 'pybind11>=2.12'.\n",
      "\n",
      "If you are a user of the module, the easiest solution will be to\n",
      "downgrade to 'numpy<2' or try to upgrade the affected module.\n",
      "We expect that some modules will need time to support NumPy 2.\n",
      "\n",
      "Traceback (most recent call last):  File \"<frozen runpy>\", line 198, in _run_module_as_main\n",
      "  File \"<frozen runpy>\", line 88, in _run_code\n",
      "  File \"c:\\tools\\Anaconda3\\Lib\\site-packages\\ipykernel_launcher.py\", line 17, in <module>\n",
      "    app.launch_new_instance()\n",
      "  File \"c:\\tools\\Anaconda3\\Lib\\site-packages\\traitlets\\config\\application.py\", line 992, in launch_instance\n",
      "    app.start()\n",
      "  File \"c:\\tools\\Anaconda3\\Lib\\site-packages\\ipykernel\\kernelapp.py\", line 701, in start\n",
      "    self.io_loop.start()\n",
      "  File \"c:\\tools\\Anaconda3\\Lib\\site-packages\\tornado\\platform\\asyncio.py\", line 195, in start\n",
      "    self.asyncio_loop.run_forever()\n",
      "  File \"c:\\tools\\Anaconda3\\Lib\\asyncio\\windows_events.py\", line 321, in run_forever\n",
      "    super().run_forever()\n",
      "  File \"c:\\tools\\Anaconda3\\Lib\\asyncio\\base_events.py\", line 607, in run_forever\n",
      "    self._run_once()\n",
      "  File \"c:\\tools\\Anaconda3\\Lib\\asyncio\\base_events.py\", line 1922, in _run_once\n",
      "    handle._run()\n",
      "  File \"c:\\tools\\Anaconda3\\Lib\\asyncio\\events.py\", line 80, in _run\n",
      "    self._context.run(self._callback, *self._args)\n",
      "  File \"c:\\tools\\Anaconda3\\Lib\\site-packages\\ipykernel\\kernelbase.py\", line 534, in dispatch_queue\n",
      "    await self.process_one()\n",
      "  File \"c:\\tools\\Anaconda3\\Lib\\site-packages\\ipykernel\\kernelbase.py\", line 523, in process_one\n",
      "    await dispatch(*args)\n",
      "  File \"c:\\tools\\Anaconda3\\Lib\\site-packages\\ipykernel\\kernelbase.py\", line 429, in dispatch_shell\n",
      "    await result\n",
      "  File \"c:\\tools\\Anaconda3\\Lib\\site-packages\\ipykernel\\kernelbase.py\", line 767, in execute_request\n",
      "    reply_content = await reply_content\n",
      "  File \"c:\\tools\\Anaconda3\\Lib\\site-packages\\ipykernel\\ipkernel.py\", line 429, in do_execute\n",
      "    res = shell.run_cell(\n",
      "  File \"c:\\tools\\Anaconda3\\Lib\\site-packages\\ipykernel\\zmqshell.py\", line 549, in run_cell\n",
      "    return super().run_cell(*args, **kwargs)\n",
      "  File \"c:\\tools\\Anaconda3\\Lib\\site-packages\\IPython\\core\\interactiveshell.py\", line 3051, in run_cell\n",
      "    result = self._run_cell(\n",
      "  File \"c:\\tools\\Anaconda3\\Lib\\site-packages\\IPython\\core\\interactiveshell.py\", line 3106, in _run_cell\n",
      "    result = runner(coro)\n",
      "  File \"c:\\tools\\Anaconda3\\Lib\\site-packages\\IPython\\core\\async_helpers.py\", line 129, in _pseudo_sync_runner\n",
      "    coro.send(None)\n",
      "  File \"c:\\tools\\Anaconda3\\Lib\\site-packages\\IPython\\core\\interactiveshell.py\", line 3311, in run_cell_async\n",
      "    has_raised = await self.run_ast_nodes(code_ast.body, cell_name,\n",
      "  File \"c:\\tools\\Anaconda3\\Lib\\site-packages\\IPython\\core\\interactiveshell.py\", line 3493, in run_ast_nodes\n",
      "    if await self.run_code(code, result, async_=asy):\n",
      "  File \"c:\\tools\\Anaconda3\\Lib\\site-packages\\IPython\\core\\interactiveshell.py\", line 3553, in run_code\n",
      "    exec(code_obj, self.user_global_ns, self.user_ns)\n",
      "  File \"C:\\Users\\lawfu\\AppData\\Local\\Temp\\ipykernel_2444\\881398070.py\", line 3, in <module>\n",
      "    import pandas as pd\n",
      "  File \"C:\\Users\\lawfu\\AppData\\Roaming\\Python\\Python311\\site-packages\\pandas\\__init__.py\", line 39, in <module>\n",
      "    from pandas.compat import (\n",
      "  File \"C:\\Users\\lawfu\\AppData\\Roaming\\Python\\Python311\\site-packages\\pandas\\compat\\__init__.py\", line 27, in <module>\n",
      "    from pandas.compat.pyarrow import (\n",
      "  File \"C:\\Users\\lawfu\\AppData\\Roaming\\Python\\Python311\\site-packages\\pandas\\compat\\pyarrow.py\", line 8, in <module>\n",
      "    import pyarrow as pa\n",
      "  File \"c:\\tools\\Anaconda3\\Lib\\site-packages\\pyarrow\\__init__.py\", line 65, in <module>\n",
      "    import pyarrow.lib as _lib\n"
     ]
    },
    {
     "ename": "AttributeError",
     "evalue": "_ARRAY_API not found",
     "output_type": "error",
     "traceback": [
      "\u001b[1;31m---------------------------------------------------------------------------\u001b[0m",
      "\u001b[1;31mAttributeError\u001b[0m                            Traceback (most recent call last)",
      "\u001b[1;31mAttributeError\u001b[0m: _ARRAY_API not found"
     ]
    },
    {
     "name": "stderr",
     "output_type": "stream",
     "text": [
      "\n",
      "A module that was compiled using NumPy 1.x cannot be run in\n",
      "NumPy 2.2.3 as it may crash. To support both 1.x and 2.x\n",
      "versions of NumPy, modules must be compiled with NumPy 2.0.\n",
      "Some module may need to rebuild instead e.g. with 'pybind11>=2.12'.\n",
      "\n",
      "If you are a user of the module, the easiest solution will be to\n",
      "downgrade to 'numpy<2' or try to upgrade the affected module.\n",
      "We expect that some modules will need time to support NumPy 2.\n",
      "\n",
      "Traceback (most recent call last):  File \"<frozen runpy>\", line 198, in _run_module_as_main\n",
      "  File \"<frozen runpy>\", line 88, in _run_code\n",
      "  File \"c:\\tools\\Anaconda3\\Lib\\site-packages\\ipykernel_launcher.py\", line 17, in <module>\n",
      "    app.launch_new_instance()\n",
      "  File \"c:\\tools\\Anaconda3\\Lib\\site-packages\\traitlets\\config\\application.py\", line 992, in launch_instance\n",
      "    app.start()\n",
      "  File \"c:\\tools\\Anaconda3\\Lib\\site-packages\\ipykernel\\kernelapp.py\", line 701, in start\n",
      "    self.io_loop.start()\n",
      "  File \"c:\\tools\\Anaconda3\\Lib\\site-packages\\tornado\\platform\\asyncio.py\", line 195, in start\n",
      "    self.asyncio_loop.run_forever()\n",
      "  File \"c:\\tools\\Anaconda3\\Lib\\asyncio\\windows_events.py\", line 321, in run_forever\n",
      "    super().run_forever()\n",
      "  File \"c:\\tools\\Anaconda3\\Lib\\asyncio\\base_events.py\", line 607, in run_forever\n",
      "    self._run_once()\n",
      "  File \"c:\\tools\\Anaconda3\\Lib\\asyncio\\base_events.py\", line 1922, in _run_once\n",
      "    handle._run()\n",
      "  File \"c:\\tools\\Anaconda3\\Lib\\asyncio\\events.py\", line 80, in _run\n",
      "    self._context.run(self._callback, *self._args)\n",
      "  File \"c:\\tools\\Anaconda3\\Lib\\site-packages\\ipykernel\\kernelbase.py\", line 534, in dispatch_queue\n",
      "    await self.process_one()\n",
      "  File \"c:\\tools\\Anaconda3\\Lib\\site-packages\\ipykernel\\kernelbase.py\", line 523, in process_one\n",
      "    await dispatch(*args)\n",
      "  File \"c:\\tools\\Anaconda3\\Lib\\site-packages\\ipykernel\\kernelbase.py\", line 429, in dispatch_shell\n",
      "    await result\n",
      "  File \"c:\\tools\\Anaconda3\\Lib\\site-packages\\ipykernel\\kernelbase.py\", line 767, in execute_request\n",
      "    reply_content = await reply_content\n",
      "  File \"c:\\tools\\Anaconda3\\Lib\\site-packages\\ipykernel\\ipkernel.py\", line 429, in do_execute\n",
      "    res = shell.run_cell(\n",
      "  File \"c:\\tools\\Anaconda3\\Lib\\site-packages\\ipykernel\\zmqshell.py\", line 549, in run_cell\n",
      "    return super().run_cell(*args, **kwargs)\n",
      "  File \"c:\\tools\\Anaconda3\\Lib\\site-packages\\IPython\\core\\interactiveshell.py\", line 3051, in run_cell\n",
      "    result = self._run_cell(\n",
      "  File \"c:\\tools\\Anaconda3\\Lib\\site-packages\\IPython\\core\\interactiveshell.py\", line 3106, in _run_cell\n",
      "    result = runner(coro)\n",
      "  File \"c:\\tools\\Anaconda3\\Lib\\site-packages\\IPython\\core\\async_helpers.py\", line 129, in _pseudo_sync_runner\n",
      "    coro.send(None)\n",
      "  File \"c:\\tools\\Anaconda3\\Lib\\site-packages\\IPython\\core\\interactiveshell.py\", line 3311, in run_cell_async\n",
      "    has_raised = await self.run_ast_nodes(code_ast.body, cell_name,\n",
      "  File \"c:\\tools\\Anaconda3\\Lib\\site-packages\\IPython\\core\\interactiveshell.py\", line 3493, in run_ast_nodes\n",
      "    if await self.run_code(code, result, async_=asy):\n",
      "  File \"c:\\tools\\Anaconda3\\Lib\\site-packages\\IPython\\core\\interactiveshell.py\", line 3553, in run_code\n",
      "    exec(code_obj, self.user_global_ns, self.user_ns)\n",
      "  File \"C:\\Users\\lawfu\\AppData\\Local\\Temp\\ipykernel_2444\\881398070.py\", line 3, in <module>\n",
      "    import pandas as pd\n",
      "  File \"C:\\Users\\lawfu\\AppData\\Roaming\\Python\\Python311\\site-packages\\pandas\\__init__.py\", line 62, in <module>\n",
      "    from pandas.core.api import (\n",
      "  File \"C:\\Users\\lawfu\\AppData\\Roaming\\Python\\Python311\\site-packages\\pandas\\core\\api.py\", line 9, in <module>\n",
      "    from pandas.core.dtypes.dtypes import (\n",
      "  File \"C:\\Users\\lawfu\\AppData\\Roaming\\Python\\Python311\\site-packages\\pandas\\core\\dtypes\\dtypes.py\", line 24, in <module>\n",
      "    from pandas._libs import (\n",
      "  File \"c:\\tools\\Anaconda3\\Lib\\site-packages\\pyarrow\\__init__.py\", line 65, in <module>\n",
      "    import pyarrow.lib as _lib\n"
     ]
    },
    {
     "ename": "AttributeError",
     "evalue": "_ARRAY_API not found",
     "output_type": "error",
     "traceback": [
      "\u001b[1;31m---------------------------------------------------------------------------\u001b[0m",
      "\u001b[1;31mAttributeError\u001b[0m                            Traceback (most recent call last)",
      "\u001b[1;31mAttributeError\u001b[0m: _ARRAY_API not found"
     ]
    },
    {
     "name": "stderr",
     "output_type": "stream",
     "text": [
      "\n",
      "A module that was compiled using NumPy 1.x cannot be run in\n",
      "NumPy 2.2.3 as it may crash. To support both 1.x and 2.x\n",
      "versions of NumPy, modules must be compiled with NumPy 2.0.\n",
      "Some module may need to rebuild instead e.g. with 'pybind11>=2.12'.\n",
      "\n",
      "If you are a user of the module, the easiest solution will be to\n",
      "downgrade to 'numpy<2' or try to upgrade the affected module.\n",
      "We expect that some modules will need time to support NumPy 2.\n",
      "\n",
      "Traceback (most recent call last):  File \"<frozen runpy>\", line 198, in _run_module_as_main\n",
      "  File \"<frozen runpy>\", line 88, in _run_code\n",
      "  File \"c:\\tools\\Anaconda3\\Lib\\site-packages\\ipykernel_launcher.py\", line 17, in <module>\n",
      "    app.launch_new_instance()\n",
      "  File \"c:\\tools\\Anaconda3\\Lib\\site-packages\\traitlets\\config\\application.py\", line 992, in launch_instance\n",
      "    app.start()\n",
      "  File \"c:\\tools\\Anaconda3\\Lib\\site-packages\\ipykernel\\kernelapp.py\", line 701, in start\n",
      "    self.io_loop.start()\n",
      "  File \"c:\\tools\\Anaconda3\\Lib\\site-packages\\tornado\\platform\\asyncio.py\", line 195, in start\n",
      "    self.asyncio_loop.run_forever()\n",
      "  File \"c:\\tools\\Anaconda3\\Lib\\asyncio\\windows_events.py\", line 321, in run_forever\n",
      "    super().run_forever()\n",
      "  File \"c:\\tools\\Anaconda3\\Lib\\asyncio\\base_events.py\", line 607, in run_forever\n",
      "    self._run_once()\n",
      "  File \"c:\\tools\\Anaconda3\\Lib\\asyncio\\base_events.py\", line 1922, in _run_once\n",
      "    handle._run()\n",
      "  File \"c:\\tools\\Anaconda3\\Lib\\asyncio\\events.py\", line 80, in _run\n",
      "    self._context.run(self._callback, *self._args)\n",
      "  File \"c:\\tools\\Anaconda3\\Lib\\site-packages\\ipykernel\\kernelbase.py\", line 534, in dispatch_queue\n",
      "    await self.process_one()\n",
      "  File \"c:\\tools\\Anaconda3\\Lib\\site-packages\\ipykernel\\kernelbase.py\", line 523, in process_one\n",
      "    await dispatch(*args)\n",
      "  File \"c:\\tools\\Anaconda3\\Lib\\site-packages\\ipykernel\\kernelbase.py\", line 429, in dispatch_shell\n",
      "    await result\n",
      "  File \"c:\\tools\\Anaconda3\\Lib\\site-packages\\ipykernel\\kernelbase.py\", line 767, in execute_request\n",
      "    reply_content = await reply_content\n",
      "  File \"c:\\tools\\Anaconda3\\Lib\\site-packages\\ipykernel\\ipkernel.py\", line 429, in do_execute\n",
      "    res = shell.run_cell(\n",
      "  File \"c:\\tools\\Anaconda3\\Lib\\site-packages\\ipykernel\\zmqshell.py\", line 549, in run_cell\n",
      "    return super().run_cell(*args, **kwargs)\n",
      "  File \"c:\\tools\\Anaconda3\\Lib\\site-packages\\IPython\\core\\interactiveshell.py\", line 3051, in run_cell\n",
      "    result = self._run_cell(\n",
      "  File \"c:\\tools\\Anaconda3\\Lib\\site-packages\\IPython\\core\\interactiveshell.py\", line 3106, in _run_cell\n",
      "    result = runner(coro)\n",
      "  File \"c:\\tools\\Anaconda3\\Lib\\site-packages\\IPython\\core\\async_helpers.py\", line 129, in _pseudo_sync_runner\n",
      "    coro.send(None)\n",
      "  File \"c:\\tools\\Anaconda3\\Lib\\site-packages\\IPython\\core\\interactiveshell.py\", line 3311, in run_cell_async\n",
      "    has_raised = await self.run_ast_nodes(code_ast.body, cell_name,\n",
      "  File \"c:\\tools\\Anaconda3\\Lib\\site-packages\\IPython\\core\\interactiveshell.py\", line 3493, in run_ast_nodes\n",
      "    if await self.run_code(code, result, async_=asy):\n",
      "  File \"c:\\tools\\Anaconda3\\Lib\\site-packages\\IPython\\core\\interactiveshell.py\", line 3553, in run_code\n",
      "    exec(code_obj, self.user_global_ns, self.user_ns)\n",
      "  File \"C:\\Users\\lawfu\\AppData\\Local\\Temp\\ipykernel_2444\\881398070.py\", line 3, in <module>\n",
      "    import pandas as pd\n",
      "  File \"C:\\Users\\lawfu\\AppData\\Roaming\\Python\\Python311\\site-packages\\pandas\\__init__.py\", line 62, in <module>\n",
      "    from pandas.core.api import (\n",
      "  File \"C:\\Users\\lawfu\\AppData\\Roaming\\Python\\Python311\\site-packages\\pandas\\core\\api.py\", line 28, in <module>\n",
      "    from pandas.core.arrays import Categorical\n",
      "  File \"C:\\Users\\lawfu\\AppData\\Roaming\\Python\\Python311\\site-packages\\pandas\\core\\arrays\\__init__.py\", line 1, in <module>\n",
      "    from pandas.core.arrays.arrow import ArrowExtensionArray\n",
      "  File \"C:\\Users\\lawfu\\AppData\\Roaming\\Python\\Python311\\site-packages\\pandas\\core\\arrays\\arrow\\__init__.py\", line 5, in <module>\n",
      "    from pandas.core.arrays.arrow.array import ArrowExtensionArray\n",
      "  File \"C:\\Users\\lawfu\\AppData\\Roaming\\Python\\Python311\\site-packages\\pandas\\core\\arrays\\arrow\\array.py\", line 50, in <module>\n",
      "    from pandas.core import (\n",
      "  File \"C:\\Users\\lawfu\\AppData\\Roaming\\Python\\Python311\\site-packages\\pandas\\core\\ops\\__init__.py\", line 8, in <module>\n",
      "    from pandas.core.ops.array_ops import (\n",
      "  File \"C:\\Users\\lawfu\\AppData\\Roaming\\Python\\Python311\\site-packages\\pandas\\core\\ops\\array_ops.py\", line 56, in <module>\n",
      "    from pandas.core.computation import expressions\n",
      "  File \"C:\\Users\\lawfu\\AppData\\Roaming\\Python\\Python311\\site-packages\\pandas\\core\\computation\\expressions.py\", line 21, in <module>\n",
      "    from pandas.core.computation.check import NUMEXPR_INSTALLED\n",
      "  File \"C:\\Users\\lawfu\\AppData\\Roaming\\Python\\Python311\\site-packages\\pandas\\core\\computation\\check.py\", line 5, in <module>\n",
      "    ne = import_optional_dependency(\"numexpr\", errors=\"warn\")\n",
      "  File \"C:\\Users\\lawfu\\AppData\\Roaming\\Python\\Python311\\site-packages\\pandas\\compat\\_optional.py\", line 135, in import_optional_dependency\n",
      "    module = importlib.import_module(name)\n",
      "  File \"c:\\tools\\Anaconda3\\Lib\\importlib\\__init__.py\", line 126, in import_module\n",
      "    return _bootstrap._gcd_import(name[level:], package, level)\n",
      "  File \"c:\\tools\\Anaconda3\\Lib\\site-packages\\numexpr\\__init__.py\", line 24, in <module>\n",
      "    from numexpr.interpreter import MAX_THREADS, use_vml, __BLOCK_SIZE1__\n"
     ]
    },
    {
     "ename": "AttributeError",
     "evalue": "_ARRAY_API not found",
     "output_type": "error",
     "traceback": [
      "\u001b[1;31m---------------------------------------------------------------------------\u001b[0m",
      "\u001b[1;31mAttributeError\u001b[0m                            Traceback (most recent call last)",
      "\u001b[1;31mAttributeError\u001b[0m: _ARRAY_API not found"
     ]
    },
    {
     "name": "stderr",
     "output_type": "stream",
     "text": [
      "\n",
      "A module that was compiled using NumPy 1.x cannot be run in\n",
      "NumPy 2.2.3 as it may crash. To support both 1.x and 2.x\n",
      "versions of NumPy, modules must be compiled with NumPy 2.0.\n",
      "Some module may need to rebuild instead e.g. with 'pybind11>=2.12'.\n",
      "\n",
      "If you are a user of the module, the easiest solution will be to\n",
      "downgrade to 'numpy<2' or try to upgrade the affected module.\n",
      "We expect that some modules will need time to support NumPy 2.\n",
      "\n",
      "Traceback (most recent call last):  File \"<frozen runpy>\", line 198, in _run_module_as_main\n",
      "  File \"<frozen runpy>\", line 88, in _run_code\n",
      "  File \"c:\\tools\\Anaconda3\\Lib\\site-packages\\ipykernel_launcher.py\", line 17, in <module>\n",
      "    app.launch_new_instance()\n",
      "  File \"c:\\tools\\Anaconda3\\Lib\\site-packages\\traitlets\\config\\application.py\", line 992, in launch_instance\n",
      "    app.start()\n",
      "  File \"c:\\tools\\Anaconda3\\Lib\\site-packages\\ipykernel\\kernelapp.py\", line 701, in start\n",
      "    self.io_loop.start()\n",
      "  File \"c:\\tools\\Anaconda3\\Lib\\site-packages\\tornado\\platform\\asyncio.py\", line 195, in start\n",
      "    self.asyncio_loop.run_forever()\n",
      "  File \"c:\\tools\\Anaconda3\\Lib\\asyncio\\windows_events.py\", line 321, in run_forever\n",
      "    super().run_forever()\n",
      "  File \"c:\\tools\\Anaconda3\\Lib\\asyncio\\base_events.py\", line 607, in run_forever\n",
      "    self._run_once()\n",
      "  File \"c:\\tools\\Anaconda3\\Lib\\asyncio\\base_events.py\", line 1922, in _run_once\n",
      "    handle._run()\n",
      "  File \"c:\\tools\\Anaconda3\\Lib\\asyncio\\events.py\", line 80, in _run\n",
      "    self._context.run(self._callback, *self._args)\n",
      "  File \"c:\\tools\\Anaconda3\\Lib\\site-packages\\ipykernel\\kernelbase.py\", line 534, in dispatch_queue\n",
      "    await self.process_one()\n",
      "  File \"c:\\tools\\Anaconda3\\Lib\\site-packages\\ipykernel\\kernelbase.py\", line 523, in process_one\n",
      "    await dispatch(*args)\n",
      "  File \"c:\\tools\\Anaconda3\\Lib\\site-packages\\ipykernel\\kernelbase.py\", line 429, in dispatch_shell\n",
      "    await result\n",
      "  File \"c:\\tools\\Anaconda3\\Lib\\site-packages\\ipykernel\\kernelbase.py\", line 767, in execute_request\n",
      "    reply_content = await reply_content\n",
      "  File \"c:\\tools\\Anaconda3\\Lib\\site-packages\\ipykernel\\ipkernel.py\", line 429, in do_execute\n",
      "    res = shell.run_cell(\n",
      "  File \"c:\\tools\\Anaconda3\\Lib\\site-packages\\ipykernel\\zmqshell.py\", line 549, in run_cell\n",
      "    return super().run_cell(*args, **kwargs)\n",
      "  File \"c:\\tools\\Anaconda3\\Lib\\site-packages\\IPython\\core\\interactiveshell.py\", line 3051, in run_cell\n",
      "    result = self._run_cell(\n",
      "  File \"c:\\tools\\Anaconda3\\Lib\\site-packages\\IPython\\core\\interactiveshell.py\", line 3106, in _run_cell\n",
      "    result = runner(coro)\n",
      "  File \"c:\\tools\\Anaconda3\\Lib\\site-packages\\IPython\\core\\async_helpers.py\", line 129, in _pseudo_sync_runner\n",
      "    coro.send(None)\n",
      "  File \"c:\\tools\\Anaconda3\\Lib\\site-packages\\IPython\\core\\interactiveshell.py\", line 3311, in run_cell_async\n",
      "    has_raised = await self.run_ast_nodes(code_ast.body, cell_name,\n",
      "  File \"c:\\tools\\Anaconda3\\Lib\\site-packages\\IPython\\core\\interactiveshell.py\", line 3493, in run_ast_nodes\n",
      "    if await self.run_code(code, result, async_=asy):\n",
      "  File \"c:\\tools\\Anaconda3\\Lib\\site-packages\\IPython\\core\\interactiveshell.py\", line 3553, in run_code\n",
      "    exec(code_obj, self.user_global_ns, self.user_ns)\n",
      "  File \"C:\\Users\\lawfu\\AppData\\Local\\Temp\\ipykernel_2444\\881398070.py\", line 3, in <module>\n",
      "    import pandas as pd\n",
      "  File \"C:\\Users\\lawfu\\AppData\\Roaming\\Python\\Python311\\site-packages\\pandas\\__init__.py\", line 62, in <module>\n",
      "    from pandas.core.api import (\n",
      "  File \"C:\\Users\\lawfu\\AppData\\Roaming\\Python\\Python311\\site-packages\\pandas\\core\\api.py\", line 28, in <module>\n",
      "    from pandas.core.arrays import Categorical\n",
      "  File \"C:\\Users\\lawfu\\AppData\\Roaming\\Python\\Python311\\site-packages\\pandas\\core\\arrays\\__init__.py\", line 1, in <module>\n",
      "    from pandas.core.arrays.arrow import ArrowExtensionArray\n",
      "  File \"C:\\Users\\lawfu\\AppData\\Roaming\\Python\\Python311\\site-packages\\pandas\\core\\arrays\\arrow\\__init__.py\", line 5, in <module>\n",
      "    from pandas.core.arrays.arrow.array import ArrowExtensionArray\n",
      "  File \"C:\\Users\\lawfu\\AppData\\Roaming\\Python\\Python311\\site-packages\\pandas\\core\\arrays\\arrow\\array.py\", line 64, in <module>\n",
      "    from pandas.core.arrays.masked import BaseMaskedArray\n",
      "  File \"C:\\Users\\lawfu\\AppData\\Roaming\\Python\\Python311\\site-packages\\pandas\\core\\arrays\\masked.py\", line 60, in <module>\n",
      "    from pandas.core import (\n",
      "  File \"C:\\Users\\lawfu\\AppData\\Roaming\\Python\\Python311\\site-packages\\pandas\\core\\nanops.py\", line 52, in <module>\n",
      "    bn = import_optional_dependency(\"bottleneck\", errors=\"warn\")\n",
      "  File \"C:\\Users\\lawfu\\AppData\\Roaming\\Python\\Python311\\site-packages\\pandas\\compat\\_optional.py\", line 135, in import_optional_dependency\n",
      "    module = importlib.import_module(name)\n",
      "  File \"c:\\tools\\Anaconda3\\Lib\\importlib\\__init__.py\", line 126, in import_module\n",
      "    return _bootstrap._gcd_import(name[level:], package, level)\n",
      "  File \"c:\\tools\\Anaconda3\\Lib\\site-packages\\bottleneck\\__init__.py\", line 7, in <module>\n",
      "    from .move import (move_argmax, move_argmin, move_max, move_mean, move_median,\n"
     ]
    },
    {
     "ename": "AttributeError",
     "evalue": "_ARRAY_API not found",
     "output_type": "error",
     "traceback": [
      "\u001b[1;31m---------------------------------------------------------------------------\u001b[0m",
      "\u001b[1;31mAttributeError\u001b[0m                            Traceback (most recent call last)",
      "\u001b[1;31mAttributeError\u001b[0m: _ARRAY_API not found"
     ]
    }
   ],
   "source": [
    "import requests\n",
    "import urllib.parse\n",
    "import pandas as pd"
   ]
  },
  {
   "cell_type": "code",
   "execution_count": 5,
   "metadata": {},
   "outputs": [],
   "source": [
    "\n",
    "def get_clinvar_data(ucsc_coords: str, assembly=\"GRCh38\"):\n",
    "    \"\"\"\n",
    "    Fetches ClinVar data for a given UCSC-style chromosome location.\n",
    "\n",
    "    Args:\n",
    "        ucsc_coords (str): Chromosome coordinates in UCSC format (e.g., 'chr2:12345-12345').\n",
    "        assembly (str): Genome assembly ('GRCh38' or 'GRCh37').\n",
    "\n",
    "    Returns:\n",
    "        dict: JSON response from ClinVar if successful, otherwise None.\n",
    "    \"\"\"\n",
    "    base_url = \"https://www.ncbi.nlm.nih.gov/clinvar/variation/search/\"\n",
    "\n",
    "    # Parse the UCSC coordinate format (e.g., 'chr2:12345-67890')\n",
    "    try:\n",
    "        chrom, pos_range = ucsc_coords.replace(\"chr\", \"\").split(\":\")\n",
    "        start, end = pos_range.split(\"-\")\n",
    "    except ValueError:\n",
    "        print(\"Invalid UCSC coordinate format. Expected format: 'chr2:12345-67890'\")\n",
    "        return None\n",
    "\n",
    "    # Construct the query for ClinVar\n",
    "    query = f\"({chrom}[CHR] AND {start}:{end}[CPOS])\"\n",
    "\n",
    "    # URL encode the query\n",
    "    encoded_query = urllib.parse.quote(query, safe=\"()[]:\")\n",
    "\n",
    "    # Construct the full URL with the appropriate genome assembly\n",
    "    assembly_id = \"GCF_000001405.38\" if assembly == \"GRCh38\" else \"GCF_000001405.25\"\n",
    "    full_url = f\"{base_url}?term={encoded_query}&assembly={assembly_id}\"\n",
    "\n",
    "    headers = {\n",
    "        \"accept\": \"application/json, text/javascript, */*; q=0.01\",\n",
    "        \"accept-language\": \"en-US,en;q=0.9\",\n",
    "        \"Referer\": \"https://www.ncbi.nlm.nih.gov/clinvar/\",\n",
    "    }\n",
    "\n",
    "    try:\n",
    "        response = requests.get(full_url, headers=headers)\n",
    "        response.raise_for_status()  # Raise an error for HTTP issues\n",
    "        return response.json()  # Return JSON response\n",
    "    except requests.exceptions.RequestException as e:\n",
    "        print(f\"Error fetching ClinVar data: {e}\")\n",
    "        return None\n",
    "\n"
   ]
  },
  {
   "cell_type": "code",
   "execution_count": 7,
   "metadata": {},
   "outputs": [],
   "source": [
    "# Example usage\n",
    "ucsc_input = \"chr2:12345-67890\"\n",
    "result = get_clinvar_data(ucsc_input)\n",
    "\n"
   ]
  },
  {
   "cell_type": "code",
   "execution_count": 8,
   "metadata": {},
   "outputs": [
    {
     "name": "stdout",
     "output_type": "stream",
     "text": [
      "dict_keys(['vars', 'genes', 'chr_info', 'query'])\n"
     ]
    }
   ],
   "source": [
    "print(result.keys())"
   ]
  },
  {
   "cell_type": "code",
   "execution_count": 23,
   "metadata": {},
   "outputs": [
    {
     "name": "stdout",
     "output_type": "stream",
     "text": [
      "{'term': '(2[CHR] AND 12345:67890[CPOS])', 'assembly': 'GCF_000001405.38'}\n"
     ]
    }
   ],
   "source": [
    "query = result['query']\n",
    "print(query)"
   ]
  },
  {
   "cell_type": "code",
   "execution_count": 15,
   "metadata": {},
   "outputs": [],
   "source": [
    "chr_info = result[\"chr_info\"]"
   ]
  },
  {
   "cell_type": "code",
   "execution_count": 18,
   "metadata": {},
   "outputs": [
    {
     "name": "stdout",
     "output_type": "stream",
     "text": [
      "{'chr': '2', 'chr_acc_ver': 'NC_000002.12', 'result_range': {'from': 12770, 'to': 55570637}}\n"
     ]
    }
   ],
   "source": [
    "print(chr_info['GCF_000001405.38'])"
   ]
  },
  {
   "cell_type": "code",
   "execution_count": 19,
   "metadata": {},
   "outputs": [],
   "source": [
    "genes = result[\"genes\"]"
   ]
  },
  {
   "cell_type": "code",
   "execution_count": 20,
   "metadata": {},
   "outputs": [
    {
     "name": "stdout",
     "output_type": "stream",
     "text": [
      "dict_keys(['ACP1', 'KLHL29', 'ADCY3', 'BIRC6', 'KIDINS220', 'WDR35', 'ATP6V1C2', 'ALK', 'KLF11', 'RDH14', 'RAD51AP2', 'RHOB', 'APOB', 'NCOA1', 'RNASEH1', 'ASAP2', 'TAF1B', 'SLC5A6', 'CAD', 'EIF2B4', 'DHX57', 'ZFP36L2', 'CALM2', 'ACYP2', 'RTN4', 'RSAD2', 'RNF144A', 'ITGB1BP1', 'ROCK2', 'GREB1', 'DDX1', 'LAPTM4A', 'UBXN2A', 'TP53I3', 'ITSN2', 'ADGRF3', 'OTOF', 'CENPA', 'SNX17', 'IFT172', 'MRPL33', 'BABAM2', 'TOGARAM2', 'NLRC4', 'RASGRP3', 'FAM98A', 'FEZ2', 'QPCT', 'CYP1B1', 'MORN2', 'ARHGEF33', 'PKDCC', 'COX7A2L', 'OXER1', 'PREPL', 'CRIPT', 'SOCS5', 'TTC7A', 'STON1-GTF2A1L', 'NRXN1', 'PPP4R3B', 'TRAPPC12', 'PDIA6', 'E2F6', 'DNMT3A', 'DTNB', 'PREB', 'SUPT7L', 'MEMO1', 'CRIM1', 'CEBPZ', 'MAP4K3', 'LRPPRC', 'EPAS1', 'ASB3', 'SH3YL1', 'ATRAID', 'CPSF3', 'YWHAQ', 'NBAS', 'NT5C1B-RDH14', 'FKBP1B', 'SF3B6', 'RAB10', 'DRC1', 'CGREF1', 'ABHD1', 'GCKR', 'C2orf16', 'ZNF512', 'FOSL2', 'YPEL5', 'DPY30', 'YIPF4', 'CDC42EP3', 'HNRNPLL', 'TMEM178A', 'EML4', 'MTA3', 'DYNC2LI1', 'SIX2', 'STON1', 'GTF2A1L', 'FSHR', 'CHAC2', 'ERLEC1', 'GPR75', 'FAM110C', 'ID2', 'HPCAL1', 'KCNF1', 'LRATD1', 'KCNS3', 'NT5C1B', 'LDAH', 'MFSD2B', 'KIF3C', 'GAREM2', 'HADHA', 'HADHB', 'SELENOI', 'FAM166C', 'KCNK3', 'AGBL5', 'KHK', 'EMILIN1', 'PRR30', 'TCF23', 'GTF3C2', 'GPN1', 'PLB1', 'PCARE', 'TMEM247', 'MSH6', 'FOXN2', 'CYS1', 'MATN3', 'GDF7', 'DNAJC27', 'MPV17', 'KRTCAP3', 'LTBP1', 'RMDN2', 'CDKL4', 'MCFD2', 'EPCAM', 'LHCGR', 'GPR75-ASB3', 'TSPYL6', 'TRIB2', 'MYCN', 'GEN1', 'MSH2', 'MTIF2', 'SNTG2', 'COLEC11', 'GRHL1', 'ODC1', 'ATAD2B', 'CENPO', 'POMC', 'TMEM214', 'PPM1G', 'NRBP1', 'PPP1CB', 'CAPN13', 'VIT', 'HEATR5B', 'EIF2AK2', 'C1GALT1C1L', 'PPM1B', 'PRKCE', 'ATP6V1E2', 'PIGF', 'ALKAL2', 'ADI1', 'RPS7', 'RRM2', 'NOL10', 'SMC6', 'SDC1', 'FAM228A', 'PTRHD1', 'ASXL2', 'SLC35F6', 'MAPRE3', 'OST4', 'CCDC121', 'TRMT61B', 'CLIP4', 'GALNT14', 'EHD3', 'SLC30A6', 'TTC27', 'GPATCH11', 'SULT6B1', 'CEBPZOS', 'NDUFAF7', 'SRSF7', 'GEMIN6', 'SLC3A1', 'CAMKMT', 'SIX3', 'SRBD1', 'STPG4', 'FBXO11', 'PPP1R21', 'RPS27A', 'CFAP36', 'TMEM18', 'MYT1L', 'ALLC', 'SOX11', 'CMPK2', 'MBOAT2', 'IAH1', 'ADAM17', 'LPIN1', 'PUM2', 'TDRD15', 'WDCP', 'FAM228B', 'PFN4', 'EFR3B', 'DNAJC5G', 'SLC4A1AP', 'RBKS', 'WDR43', 'CAPN14', 'SRD5A2', 'SPAST', 'STRN', 'ATL2', 'SOS1', 'SLC8A1', 'THADA', 'ABCG5', 'ABCG8', 'PSME4', 'C2orf73', 'SPTBN1', 'CCDC88A', 'TPO', 'EIPR1', 'DCDC2C', 'NTSR2', 'VSNL1', 'OSR1', 'TTC32', 'HS1BP3', 'CIB4', 'UCN', 'ZNF513', 'FNDC4', 'XDH', 'PRKD3', 'GALM', 'THUMPD2', 'KCNG3', 'HAAO', 'PLEKHH2', 'RHOQ', 'KCNK12', 'CLHC1', 'PXDN', 'CYRIA', 'DPYSL5', 'SLC30A3', 'LCLAT1', 'EML6', 'C2orf50', 'SLC66A3', 'LBH', 'TRIM54', 'MSGN1', 'SPDYA'])\n"
     ]
    }
   ],
   "source": [
    "print(genes.keys())"
   ]
  },
  {
   "cell_type": "code",
   "execution_count": 21,
   "metadata": {},
   "outputs": [],
   "source": [
    "CLHC1 = genes['CLHC1']"
   ]
  },
  {
   "cell_type": "code",
   "execution_count": 22,
   "metadata": {},
   "outputs": [
    {
     "name": "stdout",
     "output_type": "stream",
     "text": [
      "{'id': 130162, 'GCF_000001405.38': {'strand': -1, 'from': 55172547, 'to': 55232563, 'mrnas': [{'acc_ver': 'NM_001353782.2', 'exons': [[55232236, 55232293, -1], [55217811, 55218600, -1], [55209630, 55209831, -1], [55209404, 55209516, -1], [55208626, 55208710, -1], [55206270, 55206376, -1], [55181570, 55181744, -1], [55180510, 55180712, -1], [55177602, 55177781, -1], [55172547, 55175986, -1]]}, {'acc_ver': 'NM_001353784.2', 'exons': [[55232236, 55232293, -1], [55217811, 55218600, -1], [55212673, 55212806, -1], [55209630, 55209831, -1], [55209404, 55209516, -1], [55208626, 55208710, -1], [55206270, 55206376, -1], [55181570, 55181744, -1], [55180510, 55180712, -1], [55177602, 55177781, -1], [55172547, 55175986, -1]]}, {'acc_ver': 'NM_001353787.2', 'exons': [[55232236, 55232293, -1], [55222235, 55222493, -1], [55217811, 55218600, -1], [55212673, 55212806, -1], [55209630, 55209831, -1], [55206270, 55206376, -1], [55181570, 55181744, -1], [55180510, 55180712, -1], [55177602, 55177781, -1], [55172547, 55175986, -1]]}, {'acc_ver': 'NM_001353780.2', 'exons': [[55232236, 55232293, -1], [55228032, 55228204, -1], [55222235, 55222493, -1], [55217811, 55217998, -1], [55212673, 55212806, -1], [55209630, 55209831, -1], [55206270, 55206376, -1], [55181570, 55181744, -1], [55180510, 55180712, -1], [55177602, 55177781, -1], [55172547, 55175986, -1]]}, {'acc_ver': 'NM_001353786.2', 'exons': [[55232236, 55232293, -1], [55229330, 55229472, -1], [55217811, 55218600, -1], [55212673, 55212806, -1], [55209630, 55209831, -1], [55206270, 55206376, -1], [55181570, 55181744, -1], [55180510, 55180712, -1], [55177602, 55177781, -1], [55172547, 55175986, -1]]}, {'acc_ver': 'NM_001353781.2', 'exons': [[55232236, 55232293, -1], [55229330, 55229472, -1], [55217811, 55218600, -1], [55212673, 55212806, -1], [55209630, 55209831, -1], [55209404, 55209516, -1], [55208626, 55208710, -1], [55206270, 55206376, -1], [55181570, 55181744, -1], [55180510, 55180712, -1], [55177602, 55177781, -1], [55172547, 55175986, -1]]}, {'acc_ver': 'NM_001135598.2', 'exons': [[55232492, 55232563, -1], [55217811, 55217998, -1], [55212673, 55212806, -1], [55209630, 55209831, -1], [55209404, 55209516, -1], [55208626, 55208710, -1], [55206270, 55206376, -1], [55181570, 55181744, -1], [55180510, 55180712, -1], [55177602, 55177781, -1], [55172547, 55175986, -1]]}, {'acc_ver': 'NM_001353785.2', 'exons': [[55232223, 55232293, -1], [55217811, 55218600, -1], [55209630, 55209831, -1], [55206270, 55206376, -1], [55181570, 55181744, -1], [55180510, 55180712, -1], [55177602, 55177781, -1], [55172547, 55175986, -1]]}, {'acc_ver': 'NM_152385.4', 'exons': [[55232223, 55232293, -1], [55228032, 55228204, -1], [55222235, 55222493, -1], [55217811, 55217998, -1], [55212673, 55212806, -1], [55209630, 55209831, -1], [55209404, 55209516, -1], [55208626, 55208710, -1], [55206270, 55206376, -1], [55181570, 55181744, -1], [55180510, 55180712, -1], [55177602, 55177781, -1], [55172547, 55175986, -1]]}, {'acc_ver': 'NM_001353779.2', 'exons': [[55232223, 55232293, -1], [55217811, 55218600, -1], [55212673, 55212806, -1], [55209630, 55209831, -1], [55206270, 55206376, -1], [55181570, 55181744, -1], [55180510, 55180712, -1], [55177602, 55177781, -1], [55172547, 55175986, -1]]}, {'acc_ver': 'NM_001353783.2', 'exons': [[55232223, 55232293, -1], [55222235, 55222493, -1], [55217811, 55218600, -1], [55209630, 55209831, -1], [55209404, 55209516, -1], [55208626, 55208710, -1], [55206270, 55206376, -1], [55181570, 55181744, -1], [55180510, 55180712, -1], [55177602, 55177781, -1], [55172547, 55175986, -1]]}]}}\n"
     ]
    }
   ],
   "source": [
    "print(CLHC1)"
   ]
  },
  {
   "cell_type": "code",
   "execution_count": 9,
   "metadata": {},
   "outputs": [
    {
     "name": "stdout",
     "output_type": "stream",
     "text": [
      "{'id': 155714, 'ci': 'Uncertain significance', 'revstat': 'no assertion criteria provided', 'desc': '4.3Mb copy number gain', 'locs': [{'from': 12770, 'to': 4318861, 'assm': 'GCF_000001405.38', 'chr': '2'}]}\n"
     ]
    }
   ],
   "source": [
    "#get a variant\n",
    "vars = result[\"vars\"]\n",
    "print(vars[0])"
   ]
  },
  {
   "cell_type": "code",
   "execution_count": null,
   "metadata": {},
   "outputs": [
    {
     "data": {
      "text/html": [
       "<div>\n",
       "<style scoped>\n",
       "    .dataframe tbody tr th:only-of-type {\n",
       "        vertical-align: middle;\n",
       "    }\n",
       "\n",
       "    .dataframe tbody tr th {\n",
       "        vertical-align: top;\n",
       "    }\n",
       "\n",
       "    .dataframe thead th {\n",
       "        text-align: right;\n",
       "    }\n",
       "</style>\n",
       "<table border=\"1\" class=\"dataframe\">\n",
       "  <thead>\n",
       "    <tr style=\"text-align: right;\">\n",
       "      <th></th>\n",
       "      <th>id</th>\n",
       "      <th>ci</th>\n",
       "      <th>revstat</th>\n",
       "      <th>desc</th>\n",
       "      <th>locs</th>\n",
       "    </tr>\n",
       "  </thead>\n",
       "  <tbody>\n",
       "    <tr>\n",
       "      <th>0</th>\n",
       "      <td>155714</td>\n",
       "      <td>Uncertain significance</td>\n",
       "      <td>no assertion criteria provided</td>\n",
       "      <td>4.3Mb copy number gain</td>\n",
       "      <td>[{'from': 12770, 'to': 4318861, 'assm': 'GCF_0...</td>\n",
       "    </tr>\n",
       "    <tr>\n",
       "      <th>1</th>\n",
       "      <td>155609</td>\n",
       "      <td>Uncertain significance</td>\n",
       "      <td>no assertion criteria provided</td>\n",
       "      <td>221.8kb copy number loss</td>\n",
       "      <td>[{'from': 12770, 'to': 234590, 'assm': 'GCF_00...</td>\n",
       "    </tr>\n",
       "    <tr>\n",
       "      <th>2</th>\n",
       "      <td>153520</td>\n",
       "      <td>Pathogenic</td>\n",
       "      <td>no assertion criteria provided</td>\n",
       "      <td>25.0Mb copy number gain</td>\n",
       "      <td>[{'from': 12770, 'to': 25039694, 'assm': 'GCF_...</td>\n",
       "    </tr>\n",
       "    <tr>\n",
       "      <th>3</th>\n",
       "      <td>153475</td>\n",
       "      <td>Pathogenic</td>\n",
       "      <td>no assertion criteria provided</td>\n",
       "      <td>2.7Mb copy number loss</td>\n",
       "      <td>[{'from': 12770, 'to': 2748672, 'assm': 'GCF_0...</td>\n",
       "    </tr>\n",
       "    <tr>\n",
       "      <th>4</th>\n",
       "      <td>153441</td>\n",
       "      <td>Pathogenic</td>\n",
       "      <td>no assertion criteria provided</td>\n",
       "      <td>33.7Mb copy number gain</td>\n",
       "      <td>[{'from': 12770, 'to': 33711509, 'assm': 'GCF_...</td>\n",
       "    </tr>\n",
       "  </tbody>\n",
       "</table>\n",
       "</div>"
      ],
      "text/plain": [
       "       id                      ci                         revstat  \\\n",
       "0  155714  Uncertain significance  no assertion criteria provided   \n",
       "1  155609  Uncertain significance  no assertion criteria provided   \n",
       "2  153520              Pathogenic  no assertion criteria provided   \n",
       "3  153475              Pathogenic  no assertion criteria provided   \n",
       "4  153441              Pathogenic  no assertion criteria provided   \n",
       "\n",
       "                       desc                                               locs  \n",
       "0    4.3Mb copy number gain  [{'from': 12770, 'to': 4318861, 'assm': 'GCF_0...  \n",
       "1  221.8kb copy number loss  [{'from': 12770, 'to': 234590, 'assm': 'GCF_00...  \n",
       "2   25.0Mb copy number gain  [{'from': 12770, 'to': 25039694, 'assm': 'GCF_...  \n",
       "3    2.7Mb copy number loss  [{'from': 12770, 'to': 2748672, 'assm': 'GCF_0...  \n",
       "4   33.7Mb copy number gain  [{'from': 12770, 'to': 33711509, 'assm': 'GCF_...  "
      ]
     },
     "execution_count": 10,
     "metadata": {},
     "output_type": "execute_result"
    }
   ],
   "source": [
    "#dataframe of variants\n",
    "variant_df = pd.DataFrame(vars)\n",
    "variant_df.head()\n"
   ]
  },
  {
   "cell_type": "code",
   "execution_count": 14,
   "metadata": {},
   "outputs": [
    {
     "data": {
      "text/plain": [
       "'criteria provided, single submitter'"
      ]
     },
     "execution_count": 14,
     "metadata": {},
     "output_type": "execute_result"
    }
   ],
   "source": [
    "variant_df[\"revstat\"][50]"
   ]
  },
  {
   "cell_type": "code",
   "execution_count": 11,
   "metadata": {},
   "outputs": [
    {
     "name": "stdout",
     "output_type": "stream",
     "text": [
      "ci\n",
      "Uncertain significance    50\n",
      "Pathogenic                21\n",
      "Likely pathogenic          3\n",
      "Benign                     2\n",
      "Name: count, dtype: int64\n"
     ]
    }
   ],
   "source": [
    "count_variant = variant_df['ci'].value_counts()\n",
    "print(count_variant)"
   ]
  },
  {
   "cell_type": "code",
   "execution_count": null,
   "metadata": {},
   "outputs": [],
   "source": []
  }
 ],
 "metadata": {
  "kernelspec": {
   "display_name": "base",
   "language": "python",
   "name": "python3"
  },
  "language_info": {
   "codemirror_mode": {
    "name": "ipython",
    "version": 3
   },
   "file_extension": ".py",
   "mimetype": "text/x-python",
   "name": "python",
   "nbconvert_exporter": "python",
   "pygments_lexer": "ipython3",
   "version": "3.11.7"
  }
 },
 "nbformat": 4,
 "nbformat_minor": 2
}
