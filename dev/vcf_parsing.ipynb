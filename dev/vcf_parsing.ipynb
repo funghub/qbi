{
 "cells": [
  {
   "cell_type": "code",
   "execution_count": 1,
   "metadata": {},
   "outputs": [],
   "source": [
    "import io\n",
    "import os\n",
    "import pandas as pd"
   ]
  },
  {
   "cell_type": "code",
   "execution_count": 2,
   "metadata": {},
   "outputs": [],
   "source": [
    "def read_vcf(path):\n",
    "    with open(path, 'r') as f:\n",
    "        lines = [l for l in f if not l.startswith('##')]\n",
    "    return pd.read_csv(\n",
    "        io.StringIO(''.join(lines)),\n",
    "        dtype={'#CHROM': str, 'POS': int, 'ID': str, 'REF': str, 'ALT': str,\n",
    "               'QUAL': str, 'FILTER': str, 'INFO': str},\n",
    "        sep='\\t'\n",
    "    ).rename(columns={'#CHROM': 'CHROM'})"
   ]
  },
  {
   "cell_type": "code",
   "execution_count": 7,
   "metadata": {},
   "outputs": [],
   "source": [
    "alz_vcf = read_vcf(\"C:\\\\Users\\\\psait\\\\Documents\\\\GitHub\\\\qbi-evobeevos\\\\clinvar.vcf\")\n"
   ]
  },
  {
   "cell_type": "code",
   "execution_count": 16,
   "metadata": {},
   "outputs": [],
   "source": [
    "def get_condition(x):\n",
    "    return x.split(\";\")[2]"
   ]
  },
  {
   "cell_type": "code",
   "execution_count": 18,
   "metadata": {},
   "outputs": [
    {
     "data": {
      "text/plain": [
       "0                         CLNDN=Retinitis_pigmentosa\n",
       "1                                CLNDN=not_specified\n",
       "2                                CLNDN=not_specified\n",
       "3                                CLNDN=not_specified\n",
       "4                                CLNDN=not_specified\n",
       "                             ...                    \n",
       "3368280                          CLNDN=not_specified\n",
       "3368281                          CLNDN=not_specified\n",
       "3368282                          CLNDN=not_specified\n",
       "3368283                          CLNDN=not_specified\n",
       "3368284    CLNDN=ABO_blood_group_system|not_provided\n",
       "Name: INFO, Length: 3368285, dtype: object"
      ]
     },
     "execution_count": 18,
     "metadata": {},
     "output_type": "execute_result"
    }
   ],
   "source": [
    "alz_vcf.INFO.map(get_condition)"
   ]
  }
 ],
 "metadata": {
  "kernelspec": {
   "display_name": "qbi",
   "language": "python",
   "name": "python3"
  },
  "language_info": {
   "codemirror_mode": {
    "name": "ipython",
    "version": 3
   },
   "file_extension": ".py",
   "mimetype": "text/x-python",
   "name": "python",
   "nbconvert_exporter": "python",
   "pygments_lexer": "ipython3",
   "version": "3.12.9"
  }
 },
 "nbformat": 4,
 "nbformat_minor": 2
}
